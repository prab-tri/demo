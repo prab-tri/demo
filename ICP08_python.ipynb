{
  "nbformat": 4,
  "nbformat_minor": 0,
  "metadata": {
    "colab": {
      "name": "ICP08_python.ipynb",
      "provenance": [],
      "authorship_tag": "ABX9TyPN22XPnsr2tYqfbYs6WUcT",
      "include_colab_link": true
    },
    "kernelspec": {
      "name": "python3",
      "display_name": "Python 3"
    }
  },
  "cells": [
    {
      "cell_type": "markdown",
      "metadata": {
        "id": "view-in-github",
        "colab_type": "text"
      },
      "source": [
        "<a href=\"https://colab.research.google.com/github/prab-tri/demo/blob/master/ICP08_python.ipynb\" target=\"_parent\"><img src=\"https://colab.research.google.com/assets/colab-badge.svg\" alt=\"Open In Colab\"/></a>"
      ]
    },
    {
      "cell_type": "markdown",
      "metadata": {
        "id": "ktVfKppNOT1u"
      },
      "source": [
        "**This is ICP08 for python lesson.**\n",
        "\n",
        "**Topic - Keras Basic**\n",
        "\n",
        "**Created by - Prabhajan Trivedi**"
      ]
    },
    {
      "cell_type": "markdown",
      "metadata": {
        "id": "3tp4uUCrOzDj"
      },
      "source": [
        "**Question 1 -** Use the use case in the class:\n",
        "\n",
        "a. Add more Dense layers to the existing code and check how the accuracy changes.\n"
      ]
    },
    {
      "cell_type": "code",
      "metadata": {
        "id": "J9IJC4kZOsQ8"
      },
      "source": [
        "#Importing all important libraries\n",
        "from keras.models import Sequential\n",
        "from keras.layers.core import Dense, Activation\n",
        "from sklearn.model_selection import train_test_split\n",
        "from sklearn.preprocessing import StandardScaler\n",
        "import pandas as pd\n",
        "import numpy as np\n",
        "import matplotlib.pyplot as plt"
      ],
      "execution_count": 1,
      "outputs": []
    },
    {
      "cell_type": "code",
      "metadata": {
        "id": "8SAC8ze-PRfj",
        "outputId": "fdd53324-8a9b-446c-9916-4dec15385148",
        "colab": {
          "resources": {
            "http://localhost:8080/nbextensions/google.colab/files.js": {
              "data": "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",
              "ok": true,
              "headers": [
                [
                  "content-type",
                  "application/javascript"
                ]
              ],
              "status": 200,
              "status_text": ""
            }
          },
          "base_uri": "https://localhost:8080/",
          "height": 72
        }
      },
      "source": [
        "#Data is downloaded in local and exporting to google colab environment.\n",
        "#uploading the file from local drive \n",
        "from google.colab import files\n",
        "uploaded = files.upload()"
      ],
      "execution_count": 2,
      "outputs": [
        {
          "output_type": "display_data",
          "data": {
            "text/html": [
              "\n",
              "     <input type=\"file\" id=\"files-26673e1c-3ed5-4e0e-9327-f0c2145f0bc2\" name=\"files[]\" multiple disabled\n",
              "        style=\"border:none\" />\n",
              "     <output id=\"result-26673e1c-3ed5-4e0e-9327-f0c2145f0bc2\">\n",
              "      Upload widget is only available when the cell has been executed in the\n",
              "      current browser session. Please rerun this cell to enable.\n",
              "      </output>\n",
              "      <script src=\"/nbextensions/google.colab/files.js\"></script> "
            ],
            "text/plain": [
              "<IPython.core.display.HTML object>"
            ]
          },
          "metadata": {
            "tags": []
          }
        },
        {
          "output_type": "stream",
          "text": [
            "Saving diabetes.csv to diabetes.csv\n"
          ],
          "name": "stdout"
        }
      ]
    },
    {
      "cell_type": "code",
      "metadata": {
        "id": "Ft9M-oAPPKkG",
        "outputId": "b239fe26-d30e-4689-abe5-92bb229b57c1",
        "colab": {
          "base_uri": "https://localhost:8080/",
          "height": 136
        }
      },
      "source": [
        "#reading dataset in pandas dataframe\n",
        "dataset = pd.read_csv(\"diabetes.csv\", header=None).values\n",
        "dataset"
      ],
      "execution_count": 3,
      "outputs": [
        {
          "output_type": "execute_result",
          "data": {
            "text/plain": [
              "array([[  6.   , 148.   ,  72.   , ...,   0.627,  50.   ,   1.   ],\n",
              "       [  1.   ,  85.   ,  66.   , ...,   0.351,  31.   ,   0.   ],\n",
              "       [  8.   , 183.   ,  64.   , ...,   0.672,  32.   ,   1.   ],\n",
              "       ...,\n",
              "       [  5.   , 121.   ,  72.   , ...,   0.245,  30.   ,   0.   ],\n",
              "       [  1.   , 126.   ,  60.   , ...,   0.349,  47.   ,   1.   ],\n",
              "       [  1.   ,  93.   ,  70.   , ...,   0.315,  23.   ,   0.   ]])"
            ]
          },
          "metadata": {
            "tags": []
          },
          "execution_count": 3
        }
      ]
    },
    {
      "cell_type": "code",
      "metadata": {
        "id": "ybGFfMKBPma1",
        "outputId": "df9c4df7-64a1-4ce3-a766-3d0188085d1f",
        "colab": {
          "base_uri": "https://localhost:8080/",
          "height": 34
        }
      },
      "source": [
        "#shape of dataset\n",
        "dataset.shape"
      ],
      "execution_count": 4,
      "outputs": [
        {
          "output_type": "execute_result",
          "data": {
            "text/plain": [
              "(768, 9)"
            ]
          },
          "metadata": {
            "tags": []
          },
          "execution_count": 4
        }
      ]
    },
    {
      "cell_type": "markdown",
      "metadata": {
        "id": "5wM9-IhQv173"
      },
      "source": [
        "We have 768 rows and 9 columns in dataset."
      ]
    },
    {
      "cell_type": "code",
      "metadata": {
        "id": "rw-Va_uWQDRO"
      },
      "source": [
        "#Splitting data into test and train with 25% data for testing \n",
        "#First 8 coulmns are part of features and last column is target value\n",
        "X_train, X_test, Y_train, Y_test = train_test_split(dataset[:,0:8], dataset[:,8],\n",
        "                                                    test_size=0.25, random_state=87)"
      ],
      "execution_count": 5,
      "outputs": []
    },
    {
      "cell_type": "code",
      "metadata": {
        "id": "bsnxwuUxfmca"
      },
      "source": [
        "#seeding the random state\n",
        "np.random.seed(155)"
      ],
      "execution_count": 6,
      "outputs": []
    },
    {
      "cell_type": "markdown",
      "metadata": {
        "id": "VPQEmcNUxK8T"
      },
      "source": [
        "In first model,\n",
        "\n",
        "We have sequential model.\n",
        "*   Added a dense layer with unit 20 and input size of 8. It has activation function as 'relu'.\n",
        "*  Added a dense layer with unit 1 and activtion function as 'sigmoid'. This is output layer."
      ]
    },
    {
      "cell_type": "code",
      "metadata": {
        "id": "jFlO7tiRiDGQ"
      },
      "source": [
        "#creating first model (Given in class)\n",
        "my_first_nn1 = Sequential() \n",
        "my_first_nn1.add(Dense(20, input_dim=8, activation='relu')) # hidden layer\n",
        "my_first_nn1.add(Dense(1, activation='sigmoid')) # output layer\n"
      ],
      "execution_count": 7,
      "outputs": []
    },
    {
      "cell_type": "code",
      "metadata": {
        "id": "FBqg_jCYiJrs",
        "outputId": "d74136db-25d3-41bd-8343-0a25c2fb79c2",
        "colab": {
          "base_uri": "https://localhost:8080/",
          "height": 1000
        }
      },
      "source": [
        "#Compiling the first model\n",
        "my_first_nn1.compile(loss='binary_crossentropy', optimizer='adam', metrics=['acc'])\n",
        "#fitting the data\n",
        "my_first_nn1_fitted = my_first_nn1.fit(X_train, Y_train, epochs=100,\n",
        "                                     initial_epoch=0)"
      ],
      "execution_count": 8,
      "outputs": [
        {
          "output_type": "stream",
          "text": [
            "Epoch 1/100\n",
            "18/18 [==============================] - 0s 1ms/step - loss: 51.4814 - acc: 0.3385\n",
            "Epoch 2/100\n",
            "18/18 [==============================] - 0s 1ms/step - loss: 33.3394 - acc: 0.3385\n",
            "Epoch 3/100\n",
            "18/18 [==============================] - 0s 937us/step - loss: 15.9399 - acc: 0.3385\n",
            "Epoch 4/100\n",
            "18/18 [==============================] - 0s 1ms/step - loss: 8.0588 - acc: 0.4740\n",
            "Epoch 5/100\n",
            "18/18 [==============================] - 0s 1ms/step - loss: 5.0487 - acc: 0.5469\n",
            "Epoch 6/100\n",
            "18/18 [==============================] - 0s 1ms/step - loss: 2.6962 - acc: 0.5816\n",
            "Epoch 7/100\n",
            "18/18 [==============================] - 0s 1ms/step - loss: 1.8110 - acc: 0.6337\n",
            "Epoch 8/100\n",
            "18/18 [==============================] - 0s 1ms/step - loss: 1.5303 - acc: 0.6493\n",
            "Epoch 9/100\n",
            "18/18 [==============================] - 0s 1ms/step - loss: 1.3236 - acc: 0.6337\n",
            "Epoch 10/100\n",
            "18/18 [==============================] - 0s 978us/step - loss: 1.1927 - acc: 0.6319\n",
            "Epoch 11/100\n",
            "18/18 [==============================] - 0s 1ms/step - loss: 1.0783 - acc: 0.6580\n",
            "Epoch 12/100\n",
            "18/18 [==============================] - 0s 1ms/step - loss: 1.0202 - acc: 0.6528\n",
            "Epoch 13/100\n",
            "18/18 [==============================] - 0s 1ms/step - loss: 0.9554 - acc: 0.6441\n",
            "Epoch 14/100\n",
            "18/18 [==============================] - 0s 1ms/step - loss: 0.9451 - acc: 0.6476\n",
            "Epoch 15/100\n",
            "18/18 [==============================] - 0s 1ms/step - loss: 0.8670 - acc: 0.6580\n",
            "Epoch 16/100\n",
            "18/18 [==============================] - 0s 933us/step - loss: 0.8593 - acc: 0.6493\n",
            "Epoch 17/100\n",
            "18/18 [==============================] - 0s 1ms/step - loss: 0.8247 - acc: 0.6389\n",
            "Epoch 18/100\n",
            "18/18 [==============================] - 0s 1ms/step - loss: 0.7950 - acc: 0.6510\n",
            "Epoch 19/100\n",
            "18/18 [==============================] - 0s 1ms/step - loss: 0.7970 - acc: 0.6458\n",
            "Epoch 20/100\n",
            "18/18 [==============================] - 0s 1ms/step - loss: 0.7417 - acc: 0.6476\n",
            "Epoch 21/100\n",
            "18/18 [==============================] - 0s 1ms/step - loss: 0.7332 - acc: 0.6649\n",
            "Epoch 22/100\n",
            "18/18 [==============================] - 0s 1ms/step - loss: 0.7148 - acc: 0.6649\n",
            "Epoch 23/100\n",
            "18/18 [==============================] - 0s 1ms/step - loss: 0.7042 - acc: 0.6719\n",
            "Epoch 24/100\n",
            "18/18 [==============================] - 0s 1ms/step - loss: 0.6917 - acc: 0.6753\n",
            "Epoch 25/100\n",
            "18/18 [==============================] - 0s 1ms/step - loss: 0.7025 - acc: 0.6562\n",
            "Epoch 26/100\n",
            "18/18 [==============================] - 0s 1ms/step - loss: 0.6775 - acc: 0.6736\n",
            "Epoch 27/100\n",
            "18/18 [==============================] - 0s 1ms/step - loss: 0.6737 - acc: 0.6806\n",
            "Epoch 28/100\n",
            "18/18 [==============================] - 0s 995us/step - loss: 0.6692 - acc: 0.6719\n",
            "Epoch 29/100\n",
            "18/18 [==============================] - 0s 1ms/step - loss: 0.6686 - acc: 0.6684\n",
            "Epoch 30/100\n",
            "18/18 [==============================] - 0s 1ms/step - loss: 0.6639 - acc: 0.6823\n",
            "Epoch 31/100\n",
            "18/18 [==============================] - 0s 1ms/step - loss: 0.6710 - acc: 0.6701\n",
            "Epoch 32/100\n",
            "18/18 [==============================] - 0s 1ms/step - loss: 0.6608 - acc: 0.6858\n",
            "Epoch 33/100\n",
            "18/18 [==============================] - 0s 1ms/step - loss: 0.6517 - acc: 0.6684\n",
            "Epoch 34/100\n",
            "18/18 [==============================] - 0s 1ms/step - loss: 0.6470 - acc: 0.6840\n",
            "Epoch 35/100\n",
            "18/18 [==============================] - 0s 1ms/step - loss: 0.6319 - acc: 0.6806\n",
            "Epoch 36/100\n",
            "18/18 [==============================] - 0s 1ms/step - loss: 0.6292 - acc: 0.6944\n",
            "Epoch 37/100\n",
            "18/18 [==============================] - 0s 1ms/step - loss: 0.6273 - acc: 0.6858\n",
            "Epoch 38/100\n",
            "18/18 [==============================] - 0s 989us/step - loss: 0.6583 - acc: 0.6667\n",
            "Epoch 39/100\n",
            "18/18 [==============================] - 0s 1ms/step - loss: 0.6485 - acc: 0.6771\n",
            "Epoch 40/100\n",
            "18/18 [==============================] - 0s 1ms/step - loss: 0.6370 - acc: 0.6944\n",
            "Epoch 41/100\n",
            "18/18 [==============================] - 0s 1ms/step - loss: 0.6264 - acc: 0.6892\n",
            "Epoch 42/100\n",
            "18/18 [==============================] - 0s 1ms/step - loss: 0.6211 - acc: 0.6997\n",
            "Epoch 43/100\n",
            "18/18 [==============================] - 0s 1ms/step - loss: 0.6166 - acc: 0.7205\n",
            "Epoch 44/100\n",
            "18/18 [==============================] - 0s 1ms/step - loss: 0.6345 - acc: 0.6910\n",
            "Epoch 45/100\n",
            "18/18 [==============================] - 0s 1ms/step - loss: 0.6153 - acc: 0.7049\n",
            "Epoch 46/100\n",
            "18/18 [==============================] - 0s 1ms/step - loss: 0.6134 - acc: 0.6997\n",
            "Epoch 47/100\n",
            "18/18 [==============================] - 0s 1ms/step - loss: 0.6216 - acc: 0.7014\n",
            "Epoch 48/100\n",
            "18/18 [==============================] - 0s 1ms/step - loss: 0.6152 - acc: 0.6892\n",
            "Epoch 49/100\n",
            "18/18 [==============================] - 0s 1ms/step - loss: 0.6134 - acc: 0.7031\n",
            "Epoch 50/100\n",
            "18/18 [==============================] - 0s 1ms/step - loss: 0.5974 - acc: 0.7188\n",
            "Epoch 51/100\n",
            "18/18 [==============================] - 0s 1ms/step - loss: 0.6118 - acc: 0.6944\n",
            "Epoch 52/100\n",
            "18/18 [==============================] - 0s 2ms/step - loss: 0.6016 - acc: 0.7014\n",
            "Epoch 53/100\n",
            "18/18 [==============================] - 0s 1ms/step - loss: 0.6021 - acc: 0.6944\n",
            "Epoch 54/100\n",
            "18/18 [==============================] - 0s 1ms/step - loss: 0.6173 - acc: 0.6892\n",
            "Epoch 55/100\n",
            "18/18 [==============================] - 0s 1ms/step - loss: 0.7103 - acc: 0.6545\n",
            "Epoch 56/100\n",
            "18/18 [==============================] - 0s 1ms/step - loss: 0.6361 - acc: 0.6840\n",
            "Epoch 57/100\n",
            "18/18 [==============================] - 0s 1ms/step - loss: 0.5921 - acc: 0.6979\n",
            "Epoch 58/100\n",
            "18/18 [==============================] - 0s 1ms/step - loss: 0.6328 - acc: 0.6701\n",
            "Epoch 59/100\n",
            "18/18 [==============================] - 0s 1ms/step - loss: 0.6022 - acc: 0.7014\n",
            "Epoch 60/100\n",
            "18/18 [==============================] - 0s 1ms/step - loss: 0.5816 - acc: 0.7205\n",
            "Epoch 61/100\n",
            "18/18 [==============================] - 0s 1ms/step - loss: 0.5990 - acc: 0.7031\n",
            "Epoch 62/100\n",
            "18/18 [==============================] - 0s 1ms/step - loss: 0.5888 - acc: 0.7222\n",
            "Epoch 63/100\n",
            "18/18 [==============================] - 0s 1ms/step - loss: 0.6067 - acc: 0.7118\n",
            "Epoch 64/100\n",
            "18/18 [==============================] - 0s 1ms/step - loss: 0.5846 - acc: 0.6979\n",
            "Epoch 65/100\n",
            "18/18 [==============================] - 0s 1ms/step - loss: 0.5979 - acc: 0.7031\n",
            "Epoch 66/100\n",
            "18/18 [==============================] - 0s 1ms/step - loss: 0.5819 - acc: 0.7257\n",
            "Epoch 67/100\n",
            "18/18 [==============================] - 0s 1ms/step - loss: 0.5839 - acc: 0.7170\n",
            "Epoch 68/100\n",
            "18/18 [==============================] - 0s 1ms/step - loss: 0.6041 - acc: 0.6997\n",
            "Epoch 69/100\n",
            "18/18 [==============================] - 0s 1ms/step - loss: 0.6266 - acc: 0.6615\n",
            "Epoch 70/100\n",
            "18/18 [==============================] - 0s 1ms/step - loss: 0.6416 - acc: 0.6892\n",
            "Epoch 71/100\n",
            "18/18 [==============================] - 0s 1ms/step - loss: 0.6175 - acc: 0.6788\n",
            "Epoch 72/100\n",
            "18/18 [==============================] - 0s 1ms/step - loss: 0.5996 - acc: 0.7031\n",
            "Epoch 73/100\n",
            "18/18 [==============================] - 0s 1ms/step - loss: 0.6069 - acc: 0.6823\n",
            "Epoch 74/100\n",
            "18/18 [==============================] - 0s 2ms/step - loss: 0.5828 - acc: 0.6979\n",
            "Epoch 75/100\n",
            "18/18 [==============================] - 0s 1ms/step - loss: 0.5834 - acc: 0.6997\n",
            "Epoch 76/100\n",
            "18/18 [==============================] - 0s 1ms/step - loss: 0.5758 - acc: 0.7135\n",
            "Epoch 77/100\n",
            "18/18 [==============================] - 0s 1ms/step - loss: 0.5635 - acc: 0.7240\n",
            "Epoch 78/100\n",
            "18/18 [==============================] - 0s 1ms/step - loss: 0.6142 - acc: 0.6858\n",
            "Epoch 79/100\n",
            "18/18 [==============================] - 0s 1ms/step - loss: 0.5914 - acc: 0.6892\n",
            "Epoch 80/100\n",
            "18/18 [==============================] - 0s 1ms/step - loss: 0.5760 - acc: 0.7292\n",
            "Epoch 81/100\n",
            "18/18 [==============================] - 0s 1ms/step - loss: 0.5923 - acc: 0.7014\n",
            "Epoch 82/100\n",
            "18/18 [==============================] - 0s 1ms/step - loss: 0.5823 - acc: 0.7240\n",
            "Epoch 83/100\n",
            "18/18 [==============================] - 0s 1ms/step - loss: 0.5591 - acc: 0.7309\n",
            "Epoch 84/100\n",
            "18/18 [==============================] - 0s 1ms/step - loss: 0.5696 - acc: 0.7292\n",
            "Epoch 85/100\n",
            "18/18 [==============================] - 0s 1ms/step - loss: 0.5800 - acc: 0.7031\n",
            "Epoch 86/100\n",
            "18/18 [==============================] - 0s 1ms/step - loss: 0.6113 - acc: 0.6858\n",
            "Epoch 87/100\n",
            "18/18 [==============================] - 0s 1ms/step - loss: 0.5650 - acc: 0.7170\n",
            "Epoch 88/100\n",
            "18/18 [==============================] - 0s 1ms/step - loss: 0.5639 - acc: 0.6997\n",
            "Epoch 89/100\n",
            "18/18 [==============================] - 0s 1ms/step - loss: 0.6357 - acc: 0.6788\n",
            "Epoch 90/100\n",
            "18/18 [==============================] - 0s 1ms/step - loss: 0.5911 - acc: 0.6962\n",
            "Epoch 91/100\n",
            "18/18 [==============================] - 0s 2ms/step - loss: 0.5623 - acc: 0.7205\n",
            "Epoch 92/100\n",
            "18/18 [==============================] - 0s 1ms/step - loss: 0.5672 - acc: 0.7118\n",
            "Epoch 93/100\n",
            "18/18 [==============================] - 0s 1ms/step - loss: 0.5665 - acc: 0.7222\n",
            "Epoch 94/100\n",
            "18/18 [==============================] - 0s 1ms/step - loss: 0.5890 - acc: 0.7014\n",
            "Epoch 95/100\n",
            "18/18 [==============================] - 0s 1ms/step - loss: 0.5549 - acc: 0.7274\n",
            "Epoch 96/100\n",
            "18/18 [==============================] - 0s 976us/step - loss: 0.5603 - acc: 0.7170\n",
            "Epoch 97/100\n",
            "18/18 [==============================] - 0s 1ms/step - loss: 0.5727 - acc: 0.7274\n",
            "Epoch 98/100\n",
            "18/18 [==============================] - 0s 1ms/step - loss: 0.5608 - acc: 0.7257\n",
            "Epoch 99/100\n",
            "18/18 [==============================] - 0s 1ms/step - loss: 0.5631 - acc: 0.7205\n",
            "Epoch 100/100\n",
            "18/18 [==============================] - 0s 1ms/step - loss: 0.5606 - acc: 0.7274\n"
          ],
          "name": "stdout"
        }
      ]
    },
    {
      "cell_type": "code",
      "metadata": {
        "id": "MCKCqRMeic7Q",
        "outputId": "9d5f4e62-4d59-4968-d8b7-1bcb91a81608",
        "colab": {
          "base_uri": "https://localhost:8080/",
          "height": 238
        }
      },
      "source": [
        "#First model Summary \n",
        "print(my_first_nn1.summary())"
      ],
      "execution_count": 9,
      "outputs": [
        {
          "output_type": "stream",
          "text": [
            "Model: \"sequential\"\n",
            "_________________________________________________________________\n",
            "Layer (type)                 Output Shape              Param #   \n",
            "=================================================================\n",
            "dense (Dense)                (None, 20)                180       \n",
            "_________________________________________________________________\n",
            "dense_1 (Dense)              (None, 1)                 21        \n",
            "=================================================================\n",
            "Total params: 201\n",
            "Trainable params: 201\n",
            "Non-trainable params: 0\n",
            "_________________________________________________________________\n",
            "None\n"
          ],
          "name": "stdout"
        }
      ]
    },
    {
      "cell_type": "code",
      "metadata": {
        "id": "X3hT_m8IifEn",
        "outputId": "31ac2768-ff43-4c9c-8a67-6ad919fc07eb",
        "colab": {
          "base_uri": "https://localhost:8080/",
          "height": 34
        }
      },
      "source": [
        "#Evaluating testing data on first model\n",
        "val1 = my_first_nn1.evaluate(X_test, Y_test)"
      ],
      "execution_count": 10,
      "outputs": [
        {
          "output_type": "stream",
          "text": [
            "6/6 [==============================] - 0s 1ms/step - loss: 0.6383 - acc: 0.6458\n"
          ],
          "name": "stdout"
        }
      ]
    },
    {
      "cell_type": "markdown",
      "metadata": {
        "id": "UTrUEYloyHwm"
      },
      "source": [
        "In Second model,\n",
        "\n",
        "Addition to first model.\n",
        "A dense layer with unit 32 is added with activation function as 'relu' and another dense layer of 8 units are added with same activation function.\n"
      ]
    },
    {
      "cell_type": "code",
      "metadata": {
        "id": "2wtnhJOfjv_P"
      },
      "source": [
        "#creating second model with additional dense layers \n",
        "my_first_nn2 = Sequential() \n",
        "my_first_nn2.add(Dense(20, input_dim=8, activation='relu')) # hidden layer\n",
        "my_first_nn2.add(Dense(32,activation= 'relu' )) #additional dense layer of 32 units are added\n",
        "my_first_nn2.add(Dense(8, activation= 'relu')) #additional dense layer of 8 units are added\n",
        "my_first_nn2.add(Dense(1, activation='sigmoid')) # output layer"
      ],
      "execution_count": 11,
      "outputs": []
    },
    {
      "cell_type": "code",
      "metadata": {
        "id": "y-fXR6F1mJJM",
        "outputId": "29be3846-f124-4440-800b-158ddc09b065",
        "colab": {
          "base_uri": "https://localhost:8080/",
          "height": 1000
        }
      },
      "source": [
        "#Compiling the second model\n",
        "my_first_nn2.compile(loss='binary_crossentropy', optimizer='adam', metrics=['acc'])\n",
        "#fitting the data to second model\n",
        "my_first_nn2_fitted = my_first_nn2.fit(X_train, Y_train, epochs=100,\n",
        "                                     initial_epoch=0)"
      ],
      "execution_count": 12,
      "outputs": [
        {
          "output_type": "stream",
          "text": [
            "Epoch 1/100\n",
            "18/18 [==============================] - 0s 1ms/step - loss: 3.0378 - acc: 0.4896\n",
            "Epoch 2/100\n",
            "18/18 [==============================] - 0s 1ms/step - loss: 1.1982 - acc: 0.6701\n",
            "Epoch 3/100\n",
            "18/18 [==============================] - 0s 1ms/step - loss: 0.8585 - acc: 0.5799\n",
            "Epoch 4/100\n",
            "18/18 [==============================] - 0s 2ms/step - loss: 0.7201 - acc: 0.6424\n",
            "Epoch 5/100\n",
            "18/18 [==============================] - 0s 1ms/step - loss: 0.6694 - acc: 0.6615\n",
            "Epoch 6/100\n",
            "18/18 [==============================] - 0s 1ms/step - loss: 0.6271 - acc: 0.6615\n",
            "Epoch 7/100\n",
            "18/18 [==============================] - 0s 1ms/step - loss: 0.6031 - acc: 0.6840\n",
            "Epoch 8/100\n",
            "18/18 [==============================] - 0s 1ms/step - loss: 0.5812 - acc: 0.7031\n",
            "Epoch 9/100\n",
            "18/18 [==============================] - 0s 1ms/step - loss: 0.5873 - acc: 0.7031\n",
            "Epoch 10/100\n",
            "18/18 [==============================] - 0s 1ms/step - loss: 0.5861 - acc: 0.7188\n",
            "Epoch 11/100\n",
            "18/18 [==============================] - 0s 1ms/step - loss: 0.5863 - acc: 0.6962\n",
            "Epoch 12/100\n",
            "18/18 [==============================] - 0s 1ms/step - loss: 0.5883 - acc: 0.7014\n",
            "Epoch 13/100\n",
            "18/18 [==============================] - 0s 1ms/step - loss: 0.6182 - acc: 0.6944\n",
            "Epoch 14/100\n",
            "18/18 [==============================] - 0s 1ms/step - loss: 0.5820 - acc: 0.7049\n",
            "Epoch 15/100\n",
            "18/18 [==============================] - 0s 1ms/step - loss: 0.5691 - acc: 0.7205\n",
            "Epoch 16/100\n",
            "18/18 [==============================] - 0s 1ms/step - loss: 0.5654 - acc: 0.7153\n",
            "Epoch 17/100\n",
            "18/18 [==============================] - 0s 1ms/step - loss: 0.5720 - acc: 0.7083\n",
            "Epoch 18/100\n",
            "18/18 [==============================] - 0s 1ms/step - loss: 0.5640 - acc: 0.6927\n",
            "Epoch 19/100\n",
            "18/18 [==============================] - 0s 1ms/step - loss: 0.5552 - acc: 0.7292\n",
            "Epoch 20/100\n",
            "18/18 [==============================] - 0s 1ms/step - loss: 0.5646 - acc: 0.7135\n",
            "Epoch 21/100\n",
            "18/18 [==============================] - 0s 1ms/step - loss: 0.5572 - acc: 0.7118\n",
            "Epoch 22/100\n",
            "18/18 [==============================] - 0s 1ms/step - loss: 0.5529 - acc: 0.7188\n",
            "Epoch 23/100\n",
            "18/18 [==============================] - 0s 1ms/step - loss: 0.5567 - acc: 0.7205\n",
            "Epoch 24/100\n",
            "18/18 [==============================] - 0s 1ms/step - loss: 0.5733 - acc: 0.6979\n",
            "Epoch 25/100\n",
            "18/18 [==============================] - 0s 1ms/step - loss: 0.5509 - acc: 0.7326\n",
            "Epoch 26/100\n",
            "18/18 [==============================] - 0s 1ms/step - loss: 0.5501 - acc: 0.7292\n",
            "Epoch 27/100\n",
            "18/18 [==============================] - 0s 1ms/step - loss: 0.5414 - acc: 0.7361\n",
            "Epoch 28/100\n",
            "18/18 [==============================] - 0s 1ms/step - loss: 0.5433 - acc: 0.7222\n",
            "Epoch 29/100\n",
            "18/18 [==============================] - 0s 1ms/step - loss: 0.5620 - acc: 0.7153\n",
            "Epoch 30/100\n",
            "18/18 [==============================] - 0s 1ms/step - loss: 0.5701 - acc: 0.7031\n",
            "Epoch 31/100\n",
            "18/18 [==============================] - 0s 1ms/step - loss: 0.5468 - acc: 0.7135\n",
            "Epoch 32/100\n",
            "18/18 [==============================] - 0s 1ms/step - loss: 0.5571 - acc: 0.6944\n",
            "Epoch 33/100\n",
            "18/18 [==============================] - 0s 1ms/step - loss: 0.5503 - acc: 0.7274\n",
            "Epoch 34/100\n",
            "18/18 [==============================] - 0s 1ms/step - loss: 0.5426 - acc: 0.7257\n",
            "Epoch 35/100\n",
            "18/18 [==============================] - 0s 1ms/step - loss: 0.5509 - acc: 0.7344\n",
            "Epoch 36/100\n",
            "18/18 [==============================] - 0s 1ms/step - loss: 0.5848 - acc: 0.7240\n",
            "Epoch 37/100\n",
            "18/18 [==============================] - 0s 1ms/step - loss: 0.5520 - acc: 0.7378\n",
            "Epoch 38/100\n",
            "18/18 [==============================] - 0s 1ms/step - loss: 0.5312 - acc: 0.7378\n",
            "Epoch 39/100\n",
            "18/18 [==============================] - 0s 1ms/step - loss: 0.5290 - acc: 0.7292\n",
            "Epoch 40/100\n",
            "18/18 [==============================] - 0s 1ms/step - loss: 0.5398 - acc: 0.7378\n",
            "Epoch 41/100\n",
            "18/18 [==============================] - 0s 2ms/step - loss: 0.5508 - acc: 0.7049\n",
            "Epoch 42/100\n",
            "18/18 [==============================] - 0s 1ms/step - loss: 0.5312 - acc: 0.7413\n",
            "Epoch 43/100\n",
            "18/18 [==============================] - 0s 1ms/step - loss: 0.5643 - acc: 0.7153\n",
            "Epoch 44/100\n",
            "18/18 [==============================] - 0s 2ms/step - loss: 0.5392 - acc: 0.7326\n",
            "Epoch 45/100\n",
            "18/18 [==============================] - 0s 1ms/step - loss: 0.5556 - acc: 0.7361\n",
            "Epoch 46/100\n",
            "18/18 [==============================] - 0s 1ms/step - loss: 0.5418 - acc: 0.7378\n",
            "Epoch 47/100\n",
            "18/18 [==============================] - 0s 1ms/step - loss: 0.5201 - acc: 0.7431\n",
            "Epoch 48/100\n",
            "18/18 [==============================] - 0s 1ms/step - loss: 0.5200 - acc: 0.7431\n",
            "Epoch 49/100\n",
            "18/18 [==============================] - 0s 2ms/step - loss: 0.5234 - acc: 0.7448\n",
            "Epoch 50/100\n",
            "18/18 [==============================] - 0s 2ms/step - loss: 0.5214 - acc: 0.7465\n",
            "Epoch 51/100\n",
            "18/18 [==============================] - 0s 1ms/step - loss: 0.5174 - acc: 0.7517\n",
            "Epoch 52/100\n",
            "18/18 [==============================] - 0s 1ms/step - loss: 0.5262 - acc: 0.7500\n",
            "Epoch 53/100\n",
            "18/18 [==============================] - 0s 1ms/step - loss: 0.5271 - acc: 0.7326\n",
            "Epoch 54/100\n",
            "18/18 [==============================] - 0s 1ms/step - loss: 0.5275 - acc: 0.7483\n",
            "Epoch 55/100\n",
            "18/18 [==============================] - 0s 1ms/step - loss: 0.5489 - acc: 0.7431\n",
            "Epoch 56/100\n",
            "18/18 [==============================] - 0s 1ms/step - loss: 0.5114 - acc: 0.7569\n",
            "Epoch 57/100\n",
            "18/18 [==============================] - 0s 1ms/step - loss: 0.5107 - acc: 0.7483\n",
            "Epoch 58/100\n",
            "18/18 [==============================] - 0s 1ms/step - loss: 0.5209 - acc: 0.7396\n",
            "Epoch 59/100\n",
            "18/18 [==============================] - 0s 2ms/step - loss: 0.5180 - acc: 0.7396\n",
            "Epoch 60/100\n",
            "18/18 [==============================] - 0s 1ms/step - loss: 0.5244 - acc: 0.7517\n",
            "Epoch 61/100\n",
            "18/18 [==============================] - 0s 1ms/step - loss: 0.5200 - acc: 0.7483\n",
            "Epoch 62/100\n",
            "18/18 [==============================] - 0s 1ms/step - loss: 0.5230 - acc: 0.7569\n",
            "Epoch 63/100\n",
            "18/18 [==============================] - 0s 2ms/step - loss: 0.5238 - acc: 0.7257\n",
            "Epoch 64/100\n",
            "18/18 [==============================] - 0s 1ms/step - loss: 0.5136 - acc: 0.7465\n",
            "Epoch 65/100\n",
            "18/18 [==============================] - 0s 1ms/step - loss: 0.5087 - acc: 0.7569\n",
            "Epoch 66/100\n",
            "18/18 [==============================] - 0s 1ms/step - loss: 0.5027 - acc: 0.7708\n",
            "Epoch 67/100\n",
            "18/18 [==============================] - 0s 1ms/step - loss: 0.5142 - acc: 0.7552\n",
            "Epoch 68/100\n",
            "18/18 [==============================] - 0s 1ms/step - loss: 0.5113 - acc: 0.7396\n",
            "Epoch 69/100\n",
            "18/18 [==============================] - 0s 1ms/step - loss: 0.5294 - acc: 0.7309\n",
            "Epoch 70/100\n",
            "18/18 [==============================] - 0s 1ms/step - loss: 0.5345 - acc: 0.7257\n",
            "Epoch 71/100\n",
            "18/18 [==============================] - 0s 1ms/step - loss: 0.5205 - acc: 0.7465\n",
            "Epoch 72/100\n",
            "18/18 [==============================] - 0s 1ms/step - loss: 0.5096 - acc: 0.7396\n",
            "Epoch 73/100\n",
            "18/18 [==============================] - 0s 1ms/step - loss: 0.5021 - acc: 0.7569\n",
            "Epoch 74/100\n",
            "18/18 [==============================] - 0s 2ms/step - loss: 0.4991 - acc: 0.7604\n",
            "Epoch 75/100\n",
            "18/18 [==============================] - 0s 1ms/step - loss: 0.4975 - acc: 0.7674\n",
            "Epoch 76/100\n",
            "18/18 [==============================] - 0s 2ms/step - loss: 0.5143 - acc: 0.7483\n",
            "Epoch 77/100\n",
            "18/18 [==============================] - 0s 1ms/step - loss: 0.5143 - acc: 0.7413\n",
            "Epoch 78/100\n",
            "18/18 [==============================] - 0s 1ms/step - loss: 0.5047 - acc: 0.7483\n",
            "Epoch 79/100\n",
            "18/18 [==============================] - 0s 1ms/step - loss: 0.4980 - acc: 0.7587\n",
            "Epoch 80/100\n",
            "18/18 [==============================] - 0s 2ms/step - loss: 0.5050 - acc: 0.7483\n",
            "Epoch 81/100\n",
            "18/18 [==============================] - 0s 1ms/step - loss: 0.5040 - acc: 0.7708\n",
            "Epoch 82/100\n",
            "18/18 [==============================] - 0s 1ms/step - loss: 0.4969 - acc: 0.7396\n",
            "Epoch 83/100\n",
            "18/18 [==============================] - 0s 1ms/step - loss: 0.5160 - acc: 0.7448\n",
            "Epoch 84/100\n",
            "18/18 [==============================] - 0s 1ms/step - loss: 0.5060 - acc: 0.7587\n",
            "Epoch 85/100\n",
            "18/18 [==============================] - 0s 1ms/step - loss: 0.5036 - acc: 0.7500\n",
            "Epoch 86/100\n",
            "18/18 [==============================] - 0s 1ms/step - loss: 0.5294 - acc: 0.7309\n",
            "Epoch 87/100\n",
            "18/18 [==============================] - 0s 2ms/step - loss: 0.5165 - acc: 0.7535\n",
            "Epoch 88/100\n",
            "18/18 [==============================] - 0s 1ms/step - loss: 0.5204 - acc: 0.7465\n",
            "Epoch 89/100\n",
            "18/18 [==============================] - 0s 1ms/step - loss: 0.4900 - acc: 0.7674\n",
            "Epoch 90/100\n",
            "18/18 [==============================] - 0s 1ms/step - loss: 0.4870 - acc: 0.7639\n",
            "Epoch 91/100\n",
            "18/18 [==============================] - 0s 1ms/step - loss: 0.4870 - acc: 0.7708\n",
            "Epoch 92/100\n",
            "18/18 [==============================] - 0s 2ms/step - loss: 0.5018 - acc: 0.7587\n",
            "Epoch 93/100\n",
            "18/18 [==============================] - 0s 1ms/step - loss: 0.5190 - acc: 0.7535\n",
            "Epoch 94/100\n",
            "18/18 [==============================] - 0s 1ms/step - loss: 0.4929 - acc: 0.7413\n",
            "Epoch 95/100\n",
            "18/18 [==============================] - 0s 1ms/step - loss: 0.4903 - acc: 0.7656\n",
            "Epoch 96/100\n",
            "18/18 [==============================] - 0s 1ms/step - loss: 0.5184 - acc: 0.7413\n",
            "Epoch 97/100\n",
            "18/18 [==============================] - 0s 1ms/step - loss: 0.5014 - acc: 0.7517\n",
            "Epoch 98/100\n",
            "18/18 [==============================] - 0s 1ms/step - loss: 0.5199 - acc: 0.7500\n",
            "Epoch 99/100\n",
            "18/18 [==============================] - 0s 1ms/step - loss: 0.4823 - acc: 0.7691\n",
            "Epoch 100/100\n",
            "18/18 [==============================] - 0s 1ms/step - loss: 0.4955 - acc: 0.7587\n"
          ],
          "name": "stdout"
        }
      ]
    },
    {
      "cell_type": "code",
      "metadata": {
        "id": "oHGYXG3pw_4q",
        "outputId": "d9fe13d4-da7c-4747-dc7f-3a0c740b3e33",
        "colab": {
          "base_uri": "https://localhost:8080/",
          "height": 306
        }
      },
      "source": [
        "#Second model Summary \n",
        "print(my_first_nn2.summary())"
      ],
      "execution_count": 13,
      "outputs": [
        {
          "output_type": "stream",
          "text": [
            "Model: \"sequential_1\"\n",
            "_________________________________________________________________\n",
            "Layer (type)                 Output Shape              Param #   \n",
            "=================================================================\n",
            "dense_2 (Dense)              (None, 20)                180       \n",
            "_________________________________________________________________\n",
            "dense_3 (Dense)              (None, 32)                672       \n",
            "_________________________________________________________________\n",
            "dense_4 (Dense)              (None, 8)                 264       \n",
            "_________________________________________________________________\n",
            "dense_5 (Dense)              (None, 1)                 9         \n",
            "=================================================================\n",
            "Total params: 1,125\n",
            "Trainable params: 1,125\n",
            "Non-trainable params: 0\n",
            "_________________________________________________________________\n",
            "None\n"
          ],
          "name": "stdout"
        }
      ]
    },
    {
      "cell_type": "code",
      "metadata": {
        "id": "FL4ZAbSimeLm",
        "outputId": "5ee8d862-0d99-40ab-f222-9cbf49b29866",
        "colab": {
          "base_uri": "https://localhost:8080/",
          "height": 34
        }
      },
      "source": [
        "#Evaluating testing data on secind model\n",
        "val2 = my_first_nn2.evaluate(X_test, Y_test)"
      ],
      "execution_count": 14,
      "outputs": [
        {
          "output_type": "stream",
          "text": [
            "6/6 [==============================] - 0s 1ms/step - loss: 0.5717 - acc: 0.7083\n"
          ],
          "name": "stdout"
        }
      ]
    },
    {
      "cell_type": "code",
      "metadata": {
        "id": "rZaycZBDoSFy",
        "outputId": "10384cfb-d48e-4b49-d133-bd62290c7eef",
        "colab": {
          "base_uri": "https://localhost:8080/",
          "height": 573
        }
      },
      "source": [
        "# summarize history for accuracy\n",
        "plt.plot(my_first_nn1_fitted.history['acc'])\n",
        "plt.plot(my_first_nn2_fitted.history['acc'])\n",
        "plt.title('Model accuracy on training data')\n",
        "plt.ylabel('Accuracy')\n",
        "plt.xlabel('Epoch')\n",
        "plt.legend(['Model1', 'Model2'], loc='upper left')\n",
        "plt.show()\n",
        "# summarize history for loss\n",
        "plt.plot(my_first_nn1_fitted.history['loss'])\n",
        "plt.plot(my_first_nn2_fitted.history['loss'])\n",
        "plt.title('Model loss on training data')\n",
        "plt.ylabel('Loss')\n",
        "plt.xlabel('Epoch')\n",
        "plt.legend(['Model1', 'Model2'], loc='upper left')\n",
        "plt.show()"
      ],
      "execution_count": 15,
      "outputs": [
        {
          "output_type": "display_data",
          "data": {
            "image/png": "[encoded data removed]",
            "text/plain": [
              "<Figure size 432x288 with 1 Axes>"
            ]
          },
          "metadata": {
            "tags": [],
            "needs_background": "light"
          }
        },
        {
          "output_type": "display_data",
          "data": {
            "image/png": "[encoded data removed]",
            "text/plain": [
              "<Figure size 432x288 with 1 Axes>"
            ]
          },
          "metadata": {
            "tags": [],
            "needs_background": "light"
          }
        }
      ]
    },
    {
      "cell_type": "code",
      "metadata": {
        "id": "FGteTs3-zN5R",
        "outputId": "f032ff0e-3d74-45bc-b00c-3a61370e6cb7",
        "colab": {
          "base_uri": "https://localhost:8080/",
          "height": 34
        }
      },
      "source": [
        "print('Accuracy on test data on model 1 is {} and loss is {}'.format(val1[1], val1[0]))"
      ],
      "execution_count": 16,
      "outputs": [
        {
          "output_type": "stream",
          "text": [
            "Accuracy on test data on model 1 is 0.6458333134651184 and loss is 0.6382758617401123\n"
          ],
          "name": "stdout"
        }
      ]
    },
    {
      "cell_type": "code",
      "metadata": {
        "id": "7D8f7rduzo82",
        "outputId": "8a10154d-0382-41cf-8057-1d20eb6932bb",
        "colab": {
          "base_uri": "https://localhost:8080/",
          "height": 34
        }
      },
      "source": [
        "print('Accuracy on test data on model 2 is {} and loss is {}'.format(val2[1], val2[0]))"
      ],
      "execution_count": 17,
      "outputs": [
        {
          "output_type": "stream",
          "text": [
            "Accuracy on test data on model 1 is 0.7083333134651184 and loss is 0.5716938376426697\n"
          ],
          "name": "stdout"
        }
      ]
    },
    {
      "cell_type": "markdown",
      "metadata": {
        "id": "xh1bgnHTPbNq"
      },
      "source": [
        "Model 2 has significant improvement over accuracy however model 2 has lesser loss compared to model 1. So best option is Model 2 here."
      ]
    },
    {
      "cell_type": "markdown",
      "metadata": {
        "id": "DYzsSl2Q0NmO"
      },
      "source": [
        "**Question 2 -** Change the data source to Breast Cancer dataset  available in the source folder and make required changes.\n",
        "\n",
        "**Question 3 -** Normalize the data before feeding the data to the model and check how the normalization change your accuracy (code given below)."
      ]
    },
    {
      "cell_type": "code",
      "metadata": {
        "id": "qpBFhysd0OB-",
        "outputId": "4a6861b5-5c11-4d44-e86e-5bb00b339f92",
        "colab": {
          "resources": {
            "http://localhost:8080/nbextensions/google.colab/files.js": {
              "data": "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",
              "ok": true,
              "headers": [
                [
                  "content-type",
                  "application/javascript"
                ]
              ],
              "status": 200,
              "status_text": ""
            }
          },
          "base_uri": "https://localhost:8080/",
          "height": 72
        }
      },
      "source": [
        "#Data is downloaded in local and exporting to google colab environment.\n",
        "#uploading the file from local drive \n",
        "from google.colab import files\n",
        "uploaded = files.upload()"
      ],
      "execution_count": 18,
      "outputs": [
        {
          "output_type": "display_data",
          "data": {
            "text/html": [
              "\n",
              "     <input type=\"file\" id=\"files-439d6f02-338f-4fdd-8ed3-93f00463d7f9\" name=\"files[]\" multiple disabled\n",
              "        style=\"border:none\" />\n",
              "     <output id=\"result-439d6f02-338f-4fdd-8ed3-93f00463d7f9\">\n",
              "      Upload widget is only available when the cell has been executed in the\n",
              "      current browser session. Please rerun this cell to enable.\n",
              "      </output>\n",
              "      <script src=\"/nbextensions/google.colab/files.js\"></script> "
            ],
            "text/plain": [
              "<IPython.core.display.HTML object>"
            ]
          },
          "metadata": {
            "tags": []
          }
        },
        {
          "output_type": "stream",
          "text": [
            "Saving breastcancer.csv to breastcancer.csv\n"
          ],
          "name": "stdout"
        }
      ]
    },
    {
      "cell_type": "code",
      "metadata": {
        "id": "lVHoxSTp0qf6",
        "outputId": "99ebc88e-980c-44d7-da31-713ef3552999",
        "colab": {
          "base_uri": "https://localhost:8080/",
          "height": 241
        }
      },
      "source": [
        "#reading dataset in pandas dataframe\n",
        "data = pd.read_csv(\"breastcancer.csv\")\n",
        "data.head()"
      ],
      "execution_count": 47,
      "outputs": [
        {
          "output_type": "execute_result",
          "data": {
            "text/html": [
              "<div>\n",
              "<style scoped>\n",
              "    .dataframe tbody tr th:only-of-type {\n",
              "        vertical-align: middle;\n",
              "    }\n",
              "\n",
              "    .dataframe tbody tr th {\n",
              "        vertical-align: top;\n",
              "    }\n",
              "\n",
              "    .dataframe thead th {\n",
              "        text-align: right;\n",
              "    }\n",
              "</style>\n",
              "<table border=\"1\" class=\"dataframe\">\n",
              "  <thead>\n",
              "    <tr style=\"text-align: right;\">\n",
              "      <th></th>\n",
              "      <th>id</th>\n",
              "      <th>diagnosis</th>\n",
              "      <th>radius_mean</th>\n",
              "      <th>texture_mean</th>\n",
              "      <th>perimeter_mean</th>\n",
              "      <th>area_mean</th>\n",
              "      <th>smoothness_mean</th>\n",
              "      <th>compactness_mean</th>\n",
              "      <th>concavity_mean</th>\n",
              "      <th>concave points_mean</th>\n",
              "      <th>symmetry_mean</th>\n",
              "      <th>fractal_dimension_mean</th>\n",
              "      <th>radius_se</th>\n",
              "      <th>texture_se</th>\n",
              "      <th>perimeter_se</th>\n",
              "      <th>area_se</th>\n",
              "      <th>smoothness_se</th>\n",
              "      <th>compactness_se</th>\n",
              "      <th>concavity_se</th>\n",
              "      <th>concave points_se</th>\n",
              "      <th>symmetry_se</th>\n",
              "      <th>fractal_dimension_se</th>\n",
              "      <th>radius_worst</th>\n",
              "      <th>texture_worst</th>\n",
              "      <th>perimeter_worst</th>\n",
              "      <th>area_worst</th>\n",
              "      <th>smoothness_worst</th>\n",
              "      <th>compactness_worst</th>\n",
              "      <th>concavity_worst</th>\n",
              "      <th>concave points_worst</th>\n",
              "      <th>symmetry_worst</th>\n",
              "      <th>fractal_dimension_worst</th>\n",
              "      <th>Unnamed: 32</th>\n",
              "    </tr>\n",
              "  </thead>\n",
              "  <tbody>\n",
              "    <tr>\n",
              "      <th>0</th>\n",
              "      <td>842302</td>\n",
              "      <td>M</td>\n",
              "      <td>17.99</td>\n",
              "      <td>10.38</td>\n",
              "      <td>122.80</td>\n",
              "      <td>1001.0</td>\n",
              "      <td>0.11840</td>\n",
              "      <td>0.27760</td>\n",
              "      <td>0.3001</td>\n",
              "      <td>0.14710</td>\n",
              "      <td>0.2419</td>\n",
              "      <td>0.07871</td>\n",
              "      <td>1.0950</td>\n",
              "      <td>0.9053</td>\n",
              "      <td>8.589</td>\n",
              "      <td>153.40</td>\n",
              "      <td>0.006399</td>\n",
              "      <td>0.04904</td>\n",
              "      <td>0.05373</td>\n",
              "      <td>0.01587</td>\n",
              "      <td>0.03003</td>\n",
              "      <td>0.006193</td>\n",
              "      <td>25.38</td>\n",
              "      <td>17.33</td>\n",
              "      <td>184.60</td>\n",
              "      <td>2019.0</td>\n",
              "      <td>0.1622</td>\n",
              "      <td>0.6656</td>\n",
              "      <td>0.7119</td>\n",
              "      <td>0.2654</td>\n",
              "      <td>0.4601</td>\n",
              "      <td>0.11890</td>\n",
              "      <td>NaN</td>\n",
              "    </tr>\n",
              "    <tr>\n",
              "      <th>1</th>\n",
              "      <td>842517</td>\n",
              "      <td>M</td>\n",
              "      <td>20.57</td>\n",
              "      <td>17.77</td>\n",
              "      <td>132.90</td>\n",
              "      <td>1326.0</td>\n",
              "      <td>0.08474</td>\n",
              "      <td>0.07864</td>\n",
              "      <td>0.0869</td>\n",
              "      <td>0.07017</td>\n",
              "      <td>0.1812</td>\n",
              "      <td>0.05667</td>\n",
              "      <td>0.5435</td>\n",
              "      <td>0.7339</td>\n",
              "      <td>3.398</td>\n",
              "      <td>74.08</td>\n",
              "      <td>0.005225</td>\n",
              "      <td>0.01308</td>\n",
              "      <td>0.01860</td>\n",
              "      <td>0.01340</td>\n",
              "      <td>0.01389</td>\n",
              "      <td>0.003532</td>\n",
              "      <td>24.99</td>\n",
              "      <td>23.41</td>\n",
              "      <td>158.80</td>\n",
              "      <td>1956.0</td>\n",
              "      <td>0.1238</td>\n",
              "      <td>0.1866</td>\n",
              "      <td>0.2416</td>\n",
              "      <td>0.1860</td>\n",
              "      <td>0.2750</td>\n",
              "      <td>0.08902</td>\n",
              "      <td>NaN</td>\n",
              "    </tr>\n",
              "    <tr>\n",
              "      <th>2</th>\n",
              "      <td>84300903</td>\n",
              "      <td>M</td>\n",
              "      <td>19.69</td>\n",
              "      <td>21.25</td>\n",
              "      <td>130.00</td>\n",
              "      <td>1203.0</td>\n",
              "      <td>0.10960</td>\n",
              "      <td>0.15990</td>\n",
              "      <td>0.1974</td>\n",
              "      <td>0.12790</td>\n",
              "      <td>0.2069</td>\n",
              "      <td>0.05999</td>\n",
              "      <td>0.7456</td>\n",
              "      <td>0.7869</td>\n",
              "      <td>4.585</td>\n",
              "      <td>94.03</td>\n",
              "      <td>0.006150</td>\n",
              "      <td>0.04006</td>\n",
              "      <td>0.03832</td>\n",
              "      <td>0.02058</td>\n",
              "      <td>0.02250</td>\n",
              "      <td>0.004571</td>\n",
              "      <td>23.57</td>\n",
              "      <td>25.53</td>\n",
              "      <td>152.50</td>\n",
              "      <td>1709.0</td>\n",
              "      <td>0.1444</td>\n",
              "      <td>0.4245</td>\n",
              "      <td>0.4504</td>\n",
              "      <td>0.2430</td>\n",
              "      <td>0.3613</td>\n",
              "      <td>0.08758</td>\n",
              "      <td>NaN</td>\n",
              "    </tr>\n",
              "    <tr>\n",
              "      <th>3</th>\n",
              "      <td>84348301</td>\n",
              "      <td>M</td>\n",
              "      <td>11.42</td>\n",
              "      <td>20.38</td>\n",
              "      <td>77.58</td>\n",
              "      <td>386.1</td>\n",
              "      <td>0.14250</td>\n",
              "      <td>0.28390</td>\n",
              "      <td>0.2414</td>\n",
              "      <td>0.10520</td>\n",
              "      <td>0.2597</td>\n",
              "      <td>0.09744</td>\n",
              "      <td>0.4956</td>\n",
              "      <td>1.1560</td>\n",
              "      <td>3.445</td>\n",
              "      <td>27.23</td>\n",
              "      <td>0.009110</td>\n",
              "      <td>0.07458</td>\n",
              "      <td>0.05661</td>\n",
              "      <td>0.01867</td>\n",
              "      <td>0.05963</td>\n",
              "      <td>0.009208</td>\n",
              "      <td>14.91</td>\n",
              "      <td>26.50</td>\n",
              "      <td>98.87</td>\n",
              "      <td>567.7</td>\n",
              "      <td>0.2098</td>\n",
              "      <td>0.8663</td>\n",
              "      <td>0.6869</td>\n",
              "      <td>0.2575</td>\n",
              "      <td>0.6638</td>\n",
              "      <td>0.17300</td>\n",
              "      <td>NaN</td>\n",
              "    </tr>\n",
              "    <tr>\n",
              "      <th>4</th>\n",
              "      <td>84358402</td>\n",
              "      <td>M</td>\n",
              "      <td>20.29</td>\n",
              "      <td>14.34</td>\n",
              "      <td>135.10</td>\n",
              "      <td>1297.0</td>\n",
              "      <td>0.10030</td>\n",
              "      <td>0.13280</td>\n",
              "      <td>0.1980</td>\n",
              "      <td>0.10430</td>\n",
              "      <td>0.1809</td>\n",
              "      <td>0.05883</td>\n",
              "      <td>0.7572</td>\n",
              "      <td>0.7813</td>\n",
              "      <td>5.438</td>\n",
              "      <td>94.44</td>\n",
              "      <td>0.011490</td>\n",
              "      <td>0.02461</td>\n",
              "      <td>0.05688</td>\n",
              "      <td>0.01885</td>\n",
              "      <td>0.01756</td>\n",
              "      <td>0.005115</td>\n",
              "      <td>22.54</td>\n",
              "      <td>16.67</td>\n",
              "      <td>152.20</td>\n",
              "      <td>1575.0</td>\n",
              "      <td>0.1374</td>\n",
              "      <td>0.2050</td>\n",
              "      <td>0.4000</td>\n",
              "      <td>0.1625</td>\n",
              "      <td>0.2364</td>\n",
              "      <td>0.07678</td>\n",
              "      <td>NaN</td>\n",
              "    </tr>\n",
              "  </tbody>\n",
              "</table>\n",
              "</div>"
            ],
            "text/plain": [
              "         id diagnosis  ...  fractal_dimension_worst  Unnamed: 32\n",
              "0    842302         M  ...                  0.11890          NaN\n",
              "1    842517         M  ...                  0.08902          NaN\n",
              "2  84300903         M  ...                  0.08758          NaN\n",
              "3  84348301         M  ...                  0.17300          NaN\n",
              "4  84358402         M  ...                  0.07678          NaN\n",
              "\n",
              "[5 rows x 33 columns]"
            ]
          },
          "metadata": {
            "tags": []
          },
          "execution_count": 47
        }
      ]
    },
    {
      "cell_type": "code",
      "metadata": {
        "id": "U4ws-my_1mAj",
        "outputId": "bf2e31e5-9270-4b82-d4df-8993dbb69515",
        "colab": {
          "base_uri": "https://localhost:8080/",
          "height": 697
        }
      },
      "source": [
        "#Basic info on data\n",
        "data.info()"
      ],
      "execution_count": 48,
      "outputs": [
        {
          "output_type": "stream",
          "text": [
            "<class 'pandas.core.frame.DataFrame'>\n",
            "RangeIndex: 569 entries, 0 to 568\n",
            "Data columns (total 33 columns):\n",
            " #   Column                   Non-Null Count  Dtype  \n",
            "---  ------                   --------------  -----  \n",
            " 0   id                       569 non-null    int64  \n",
            " 1   diagnosis                569 non-null    object \n",
            " 2   radius_mean              569 non-null    float64\n",
            " 3   texture_mean             569 non-null    float64\n",
            " 4   perimeter_mean           569 non-null    float64\n",
            " 5   area_mean                569 non-null    float64\n",
            " 6   smoothness_mean          569 non-null    float64\n",
            " 7   compactness_mean         569 non-null    float64\n",
            " 8   concavity_mean           569 non-null    float64\n",
            " 9   concave points_mean      569 non-null    float64\n",
            " 10  symmetry_mean            569 non-null    float64\n",
            " 11  fractal_dimension_mean   569 non-null    float64\n",
            " 12  radius_se                569 non-null    float64\n",
            " 13  texture_se               569 non-null    float64\n",
            " 14  perimeter_se             569 non-null    float64\n",
            " 15  area_se                  569 non-null    float64\n",
            " 16  smoothness_se            569 non-null    float64\n",
            " 17  compactness_se           569 non-null    float64\n",
            " 18  concavity_se             569 non-null    float64\n",
            " 19  concave points_se        569 non-null    float64\n",
            " 20  symmetry_se              569 non-null    float64\n",
            " 21  fractal_dimension_se     569 non-null    float64\n",
            " 22  radius_worst             569 non-null    float64\n",
            " 23  texture_worst            569 non-null    float64\n",
            " 24  perimeter_worst          569 non-null    float64\n",
            " 25  area_worst               569 non-null    float64\n",
            " 26  smoothness_worst         569 non-null    float64\n",
            " 27  compactness_worst        569 non-null    float64\n",
            " 28  concavity_worst          569 non-null    float64\n",
            " 29  concave points_worst     569 non-null    float64\n",
            " 30  symmetry_worst           569 non-null    float64\n",
            " 31  fractal_dimension_worst  569 non-null    float64\n",
            " 32  Unnamed: 32              0 non-null      float64\n",
            "dtypes: float64(31), int64(1), object(1)\n",
            "memory usage: 146.8+ KB\n"
          ],
          "name": "stdout"
        }
      ]
    },
    {
      "cell_type": "markdown",
      "metadata": {
        "id": "dY7nMMLY11ue"
      },
      "source": [
        "In given dataset, there are 569 rows and 33 columns.\n",
        "\n",
        "We can see from data that first column is just index or id which has no meaning in prediction and last column is null for all rows. So we can drop both columns."
      ]
    },
    {
      "cell_type": "code",
      "metadata": {
        "id": "PG75IyOk2GBf"
      },
      "source": [
        "#dropping first and last column\n",
        "data.drop(data.columns[[0,32]], axis = 1, inplace= True)"
      ],
      "execution_count": 49,
      "outputs": []
    },
    {
      "cell_type": "code",
      "metadata": {
        "id": "MVLLk0qk3ASi",
        "outputId": "3f4a573c-5435-4c8a-fa5b-a084bd99aa6b",
        "colab": {
          "base_uri": "https://localhost:8080/",
          "height": 241
        }
      },
      "source": [
        "#First 5 rows of data after dropping the columns\n",
        "data.head()"
      ],
      "execution_count": 50,
      "outputs": [
        {
          "output_type": "execute_result",
          "data": {
            "text/html": [
              "<div>\n",
              "<style scoped>\n",
              "    .dataframe tbody tr th:only-of-type {\n",
              "        vertical-align: middle;\n",
              "    }\n",
              "\n",
              "    .dataframe tbody tr th {\n",
              "        vertical-align: top;\n",
              "    }\n",
              "\n",
              "    .dataframe thead th {\n",
              "        text-align: right;\n",
              "    }\n",
              "</style>\n",
              "<table border=\"1\" class=\"dataframe\">\n",
              "  <thead>\n",
              "    <tr style=\"text-align: right;\">\n",
              "      <th></th>\n",
              "      <th>diagnosis</th>\n",
              "      <th>radius_mean</th>\n",
              "      <th>texture_mean</th>\n",
              "      <th>perimeter_mean</th>\n",
              "      <th>area_mean</th>\n",
              "      <th>smoothness_mean</th>\n",
              "      <th>compactness_mean</th>\n",
              "      <th>concavity_mean</th>\n",
              "      <th>concave points_mean</th>\n",
              "      <th>symmetry_mean</th>\n",
              "      <th>fractal_dimension_mean</th>\n",
              "      <th>radius_se</th>\n",
              "      <th>texture_se</th>\n",
              "      <th>perimeter_se</th>\n",
              "      <th>area_se</th>\n",
              "      <th>smoothness_se</th>\n",
              "      <th>compactness_se</th>\n",
              "      <th>concavity_se</th>\n",
              "      <th>concave points_se</th>\n",
              "      <th>symmetry_se</th>\n",
              "      <th>fractal_dimension_se</th>\n",
              "      <th>radius_worst</th>\n",
              "      <th>texture_worst</th>\n",
              "      <th>perimeter_worst</th>\n",
              "      <th>area_worst</th>\n",
              "      <th>smoothness_worst</th>\n",
              "      <th>compactness_worst</th>\n",
              "      <th>concavity_worst</th>\n",
              "      <th>concave points_worst</th>\n",
              "      <th>symmetry_worst</th>\n",
              "      <th>fractal_dimension_worst</th>\n",
              "    </tr>\n",
              "  </thead>\n",
              "  <tbody>\n",
              "    <tr>\n",
              "      <th>0</th>\n",
              "      <td>M</td>\n",
              "      <td>17.99</td>\n",
              "      <td>10.38</td>\n",
              "      <td>122.80</td>\n",
              "      <td>1001.0</td>\n",
              "      <td>0.11840</td>\n",
              "      <td>0.27760</td>\n",
              "      <td>0.3001</td>\n",
              "      <td>0.14710</td>\n",
              "      <td>0.2419</td>\n",
              "      <td>0.07871</td>\n",
              "      <td>1.0950</td>\n",
              "      <td>0.9053</td>\n",
              "      <td>8.589</td>\n",
              "      <td>153.40</td>\n",
              "      <td>0.006399</td>\n",
              "      <td>0.04904</td>\n",
              "      <td>0.05373</td>\n",
              "      <td>0.01587</td>\n",
              "      <td>0.03003</td>\n",
              "      <td>0.006193</td>\n",
              "      <td>25.38</td>\n",
              "      <td>17.33</td>\n",
              "      <td>184.60</td>\n",
              "      <td>2019.0</td>\n",
              "      <td>0.1622</td>\n",
              "      <td>0.6656</td>\n",
              "      <td>0.7119</td>\n",
              "      <td>0.2654</td>\n",
              "      <td>0.4601</td>\n",
              "      <td>0.11890</td>\n",
              "    </tr>\n",
              "    <tr>\n",
              "      <th>1</th>\n",
              "      <td>M</td>\n",
              "      <td>20.57</td>\n",
              "      <td>17.77</td>\n",
              "      <td>132.90</td>\n",
              "      <td>1326.0</td>\n",
              "      <td>0.08474</td>\n",
              "      <td>0.07864</td>\n",
              "      <td>0.0869</td>\n",
              "      <td>0.07017</td>\n",
              "      <td>0.1812</td>\n",
              "      <td>0.05667</td>\n",
              "      <td>0.5435</td>\n",
              "      <td>0.7339</td>\n",
              "      <td>3.398</td>\n",
              "      <td>74.08</td>\n",
              "      <td>0.005225</td>\n",
              "      <td>0.01308</td>\n",
              "      <td>0.01860</td>\n",
              "      <td>0.01340</td>\n",
              "      <td>0.01389</td>\n",
              "      <td>0.003532</td>\n",
              "      <td>24.99</td>\n",
              "      <td>23.41</td>\n",
              "      <td>158.80</td>\n",
              "      <td>1956.0</td>\n",
              "      <td>0.1238</td>\n",
              "      <td>0.1866</td>\n",
              "      <td>0.2416</td>\n",
              "      <td>0.1860</td>\n",
              "      <td>0.2750</td>\n",
              "      <td>0.08902</td>\n",
              "    </tr>\n",
              "    <tr>\n",
              "      <th>2</th>\n",
              "      <td>M</td>\n",
              "      <td>19.69</td>\n",
              "      <td>21.25</td>\n",
              "      <td>130.00</td>\n",
              "      <td>1203.0</td>\n",
              "      <td>0.10960</td>\n",
              "      <td>0.15990</td>\n",
              "      <td>0.1974</td>\n",
              "      <td>0.12790</td>\n",
              "      <td>0.2069</td>\n",
              "      <td>0.05999</td>\n",
              "      <td>0.7456</td>\n",
              "      <td>0.7869</td>\n",
              "      <td>4.585</td>\n",
              "      <td>94.03</td>\n",
              "      <td>0.006150</td>\n",
              "      <td>0.04006</td>\n",
              "      <td>0.03832</td>\n",
              "      <td>0.02058</td>\n",
              "      <td>0.02250</td>\n",
              "      <td>0.004571</td>\n",
              "      <td>23.57</td>\n",
              "      <td>25.53</td>\n",
              "      <td>152.50</td>\n",
              "      <td>1709.0</td>\n",
              "      <td>0.1444</td>\n",
              "      <td>0.4245</td>\n",
              "      <td>0.4504</td>\n",
              "      <td>0.2430</td>\n",
              "      <td>0.3613</td>\n",
              "      <td>0.08758</td>\n",
              "    </tr>\n",
              "    <tr>\n",
              "      <th>3</th>\n",
              "      <td>M</td>\n",
              "      <td>11.42</td>\n",
              "      <td>20.38</td>\n",
              "      <td>77.58</td>\n",
              "      <td>386.1</td>\n",
              "      <td>0.14250</td>\n",
              "      <td>0.28390</td>\n",
              "      <td>0.2414</td>\n",
              "      <td>0.10520</td>\n",
              "      <td>0.2597</td>\n",
              "      <td>0.09744</td>\n",
              "      <td>0.4956</td>\n",
              "      <td>1.1560</td>\n",
              "      <td>3.445</td>\n",
              "      <td>27.23</td>\n",
              "      <td>0.009110</td>\n",
              "      <td>0.07458</td>\n",
              "      <td>0.05661</td>\n",
              "      <td>0.01867</td>\n",
              "      <td>0.05963</td>\n",
              "      <td>0.009208</td>\n",
              "      <td>14.91</td>\n",
              "      <td>26.50</td>\n",
              "      <td>98.87</td>\n",
              "      <td>567.7</td>\n",
              "      <td>0.2098</td>\n",
              "      <td>0.8663</td>\n",
              "      <td>0.6869</td>\n",
              "      <td>0.2575</td>\n",
              "      <td>0.6638</td>\n",
              "      <td>0.17300</td>\n",
              "    </tr>\n",
              "    <tr>\n",
              "      <th>4</th>\n",
              "      <td>M</td>\n",
              "      <td>20.29</td>\n",
              "      <td>14.34</td>\n",
              "      <td>135.10</td>\n",
              "      <td>1297.0</td>\n",
              "      <td>0.10030</td>\n",
              "      <td>0.13280</td>\n",
              "      <td>0.1980</td>\n",
              "      <td>0.10430</td>\n",
              "      <td>0.1809</td>\n",
              "      <td>0.05883</td>\n",
              "      <td>0.7572</td>\n",
              "      <td>0.7813</td>\n",
              "      <td>5.438</td>\n",
              "      <td>94.44</td>\n",
              "      <td>0.011490</td>\n",
              "      <td>0.02461</td>\n",
              "      <td>0.05688</td>\n",
              "      <td>0.01885</td>\n",
              "      <td>0.01756</td>\n",
              "      <td>0.005115</td>\n",
              "      <td>22.54</td>\n",
              "      <td>16.67</td>\n",
              "      <td>152.20</td>\n",
              "      <td>1575.0</td>\n",
              "      <td>0.1374</td>\n",
              "      <td>0.2050</td>\n",
              "      <td>0.4000</td>\n",
              "      <td>0.1625</td>\n",
              "      <td>0.2364</td>\n",
              "      <td>0.07678</td>\n",
              "    </tr>\n",
              "  </tbody>\n",
              "</table>\n",
              "</div>"
            ],
            "text/plain": [
              "  diagnosis  radius_mean  ...  symmetry_worst  fractal_dimension_worst\n",
              "0         M        17.99  ...          0.4601                  0.11890\n",
              "1         M        20.57  ...          0.2750                  0.08902\n",
              "2         M        19.69  ...          0.3613                  0.08758\n",
              "3         M        11.42  ...          0.6638                  0.17300\n",
              "4         M        20.29  ...          0.2364                  0.07678\n",
              "\n",
              "[5 rows x 31 columns]"
            ]
          },
          "metadata": {
            "tags": []
          },
          "execution_count": 50
        }
      ]
    },
    {
      "cell_type": "code",
      "metadata": {
        "id": "GTaaldzu3l8J",
        "outputId": "028e233b-537d-4749-b12e-2ef310c338c5",
        "colab": {
          "base_uri": "https://localhost:8080/",
          "height": 34
        }
      },
      "source": [
        "#Shape of Data\n",
        "data.shape"
      ],
      "execution_count": 51,
      "outputs": [
        {
          "output_type": "execute_result",
          "data": {
            "text/plain": [
              "(569, 31)"
            ]
          },
          "metadata": {
            "tags": []
          },
          "execution_count": 51
        }
      ]
    },
    {
      "cell_type": "code",
      "metadata": {
        "id": "IRTK90wB3CL_",
        "outputId": "f4418760-5fef-4b7b-bae0-72c2f7427ce1",
        "colab": {
          "base_uri": "https://localhost:8080/",
          "height": 561
        }
      },
      "source": [
        "#checking null value\n",
        "data.isnull().sum()"
      ],
      "execution_count": 52,
      "outputs": [
        {
          "output_type": "execute_result",
          "data": {
            "text/plain": [
              "diagnosis                  0\n",
              "radius_mean                0\n",
              "texture_mean               0\n",
              "perimeter_mean             0\n",
              "area_mean                  0\n",
              "smoothness_mean            0\n",
              "compactness_mean           0\n",
              "concavity_mean             0\n",
              "concave points_mean        0\n",
              "symmetry_mean              0\n",
              "fractal_dimension_mean     0\n",
              "radius_se                  0\n",
              "texture_se                 0\n",
              "perimeter_se               0\n",
              "area_se                    0\n",
              "smoothness_se              0\n",
              "compactness_se             0\n",
              "concavity_se               0\n",
              "concave points_se          0\n",
              "symmetry_se                0\n",
              "fractal_dimension_se       0\n",
              "radius_worst               0\n",
              "texture_worst              0\n",
              "perimeter_worst            0\n",
              "area_worst                 0\n",
              "smoothness_worst           0\n",
              "compactness_worst          0\n",
              "concavity_worst            0\n",
              "concave points_worst       0\n",
              "symmetry_worst             0\n",
              "fractal_dimension_worst    0\n",
              "dtype: int64"
            ]
          },
          "metadata": {
            "tags": []
          },
          "execution_count": 52
        }
      ]
    },
    {
      "cell_type": "markdown",
      "metadata": {
        "id": "HK4nXf4J4LlT"
      },
      "source": [
        "We dont have any null value on data. So we are good with further processing."
      ]
    },
    {
      "cell_type": "code",
      "metadata": {
        "id": "M_8yAhJh-wGE",
        "outputId": "0f4bc088-eda1-40ce-ffc1-32ee2a8fd6e6",
        "colab": {
          "base_uri": "https://localhost:8080/",
          "height": 264
        }
      },
      "source": [
        "# Count and plot of target value distribution.\n",
        "data['diagnosis'].value_counts().plot(kind = 'bar')\n",
        "plt.show()"
      ],
      "execution_count": 53,
      "outputs": [
        {
          "output_type": "display_data",
          "data": {
            "image/png": "[encoded data removed]",
            "text/plain": [
              "<Figure size 432x288 with 1 Axes>"
            ]
          },
          "metadata": {
            "tags": [],
            "needs_background": "light"
          }
        }
      ]
    },
    {
      "cell_type": "code",
      "metadata": {
        "id": "ECI4diwL_KXi",
        "outputId": "e891a201-f293-4656-dcb5-4ca1143292c3",
        "colab": {
          "base_uri": "https://localhost:8080/",
          "height": 334
        }
      },
      "source": [
        "#summary of statistical information on numerical features\n",
        "data.describe()"
      ],
      "execution_count": 54,
      "outputs": [
        {
          "output_type": "execute_result",
          "data": {
            "text/html": [
              "<div>\n",
              "<style scoped>\n",
              "    .dataframe tbody tr th:only-of-type {\n",
              "        vertical-align: middle;\n",
              "    }\n",
              "\n",
              "    .dataframe tbody tr th {\n",
              "        vertical-align: top;\n",
              "    }\n",
              "\n",
              "    .dataframe thead th {\n",
              "        text-align: right;\n",
              "    }\n",
              "</style>\n",
              "<table border=\"1\" class=\"dataframe\">\n",
              "  <thead>\n",
              "    <tr style=\"text-align: right;\">\n",
              "      <th></th>\n",
              "      <th>radius_mean</th>\n",
              "      <th>texture_mean</th>\n",
              "      <th>perimeter_mean</th>\n",
              "      <th>area_mean</th>\n",
              "      <th>smoothness_mean</th>\n",
              "      <th>compactness_mean</th>\n",
              "      <th>concavity_mean</th>\n",
              "      <th>concave points_mean</th>\n",
              "      <th>symmetry_mean</th>\n",
              "      <th>fractal_dimension_mean</th>\n",
              "      <th>radius_se</th>\n",
              "      <th>texture_se</th>\n",
              "      <th>perimeter_se</th>\n",
              "      <th>area_se</th>\n",
              "      <th>smoothness_se</th>\n",
              "      <th>compactness_se</th>\n",
              "      <th>concavity_se</th>\n",
              "      <th>concave points_se</th>\n",
              "      <th>symmetry_se</th>\n",
              "      <th>fractal_dimension_se</th>\n",
              "      <th>radius_worst</th>\n",
              "      <th>texture_worst</th>\n",
              "      <th>perimeter_worst</th>\n",
              "      <th>area_worst</th>\n",
              "      <th>smoothness_worst</th>\n",
              "      <th>compactness_worst</th>\n",
              "      <th>concavity_worst</th>\n",
              "      <th>concave points_worst</th>\n",
              "      <th>symmetry_worst</th>\n",
              "      <th>fractal_dimension_worst</th>\n",
              "    </tr>\n",
              "  </thead>\n",
              "  <tbody>\n",
              "    <tr>\n",
              "      <th>count</th>\n",
              "      <td>569.000000</td>\n",
              "      <td>569.000000</td>\n",
              "      <td>569.000000</td>\n",
              "      <td>569.000000</td>\n",
              "      <td>569.000000</td>\n",
              "      <td>569.000000</td>\n",
              "      <td>569.000000</td>\n",
              "      <td>569.000000</td>\n",
              "      <td>569.000000</td>\n",
              "      <td>569.000000</td>\n",
              "      <td>569.000000</td>\n",
              "      <td>569.000000</td>\n",
              "      <td>569.000000</td>\n",
              "      <td>569.000000</td>\n",
              "      <td>569.000000</td>\n",
              "      <td>569.000000</td>\n",
              "      <td>569.000000</td>\n",
              "      <td>569.000000</td>\n",
              "      <td>569.000000</td>\n",
              "      <td>569.000000</td>\n",
              "      <td>569.000000</td>\n",
              "      <td>569.000000</td>\n",
              "      <td>569.000000</td>\n",
              "      <td>569.000000</td>\n",
              "      <td>569.000000</td>\n",
              "      <td>569.000000</td>\n",
              "      <td>569.000000</td>\n",
              "      <td>569.000000</td>\n",
              "      <td>569.000000</td>\n",
              "      <td>569.000000</td>\n",
              "    </tr>\n",
              "    <tr>\n",
              "      <th>mean</th>\n",
              "      <td>14.127292</td>\n",
              "      <td>19.289649</td>\n",
              "      <td>91.969033</td>\n",
              "      <td>654.889104</td>\n",
              "      <td>0.096360</td>\n",
              "      <td>0.104341</td>\n",
              "      <td>0.088799</td>\n",
              "      <td>0.048919</td>\n",
              "      <td>0.181162</td>\n",
              "      <td>0.062798</td>\n",
              "      <td>0.405172</td>\n",
              "      <td>1.216853</td>\n",
              "      <td>2.866059</td>\n",
              "      <td>40.337079</td>\n",
              "      <td>0.007041</td>\n",
              "      <td>0.025478</td>\n",
              "      <td>0.031894</td>\n",
              "      <td>0.011796</td>\n",
              "      <td>0.020542</td>\n",
              "      <td>0.003795</td>\n",
              "      <td>16.269190</td>\n",
              "      <td>25.677223</td>\n",
              "      <td>107.261213</td>\n",
              "      <td>880.583128</td>\n",
              "      <td>0.132369</td>\n",
              "      <td>0.254265</td>\n",
              "      <td>0.272188</td>\n",
              "      <td>0.114606</td>\n",
              "      <td>0.290076</td>\n",
              "      <td>0.083946</td>\n",
              "    </tr>\n",
              "    <tr>\n",
              "      <th>std</th>\n",
              "      <td>3.524049</td>\n",
              "      <td>4.301036</td>\n",
              "      <td>24.298981</td>\n",
              "      <td>351.914129</td>\n",
              "      <td>0.014064</td>\n",
              "      <td>0.052813</td>\n",
              "      <td>0.079720</td>\n",
              "      <td>0.038803</td>\n",
              "      <td>0.027414</td>\n",
              "      <td>0.007060</td>\n",
              "      <td>0.277313</td>\n",
              "      <td>0.551648</td>\n",
              "      <td>2.021855</td>\n",
              "      <td>45.491006</td>\n",
              "      <td>0.003003</td>\n",
              "      <td>0.017908</td>\n",
              "      <td>0.030186</td>\n",
              "      <td>0.006170</td>\n",
              "      <td>0.008266</td>\n",
              "      <td>0.002646</td>\n",
              "      <td>4.833242</td>\n",
              "      <td>6.146258</td>\n",
              "      <td>33.602542</td>\n",
              "      <td>569.356993</td>\n",
              "      <td>0.022832</td>\n",
              "      <td>0.157336</td>\n",
              "      <td>0.208624</td>\n",
              "      <td>0.065732</td>\n",
              "      <td>0.061867</td>\n",
              "      <td>0.018061</td>\n",
              "    </tr>\n",
              "    <tr>\n",
              "      <th>min</th>\n",
              "      <td>6.981000</td>\n",
              "      <td>9.710000</td>\n",
              "      <td>43.790000</td>\n",
              "      <td>143.500000</td>\n",
              "      <td>0.052630</td>\n",
              "      <td>0.019380</td>\n",
              "      <td>0.000000</td>\n",
              "      <td>0.000000</td>\n",
              "      <td>0.106000</td>\n",
              "      <td>0.049960</td>\n",
              "      <td>0.111500</td>\n",
              "      <td>0.360200</td>\n",
              "      <td>0.757000</td>\n",
              "      <td>6.802000</td>\n",
              "      <td>0.001713</td>\n",
              "      <td>0.002252</td>\n",
              "      <td>0.000000</td>\n",
              "      <td>0.000000</td>\n",
              "      <td>0.007882</td>\n",
              "      <td>0.000895</td>\n",
              "      <td>7.930000</td>\n",
              "      <td>12.020000</td>\n",
              "      <td>50.410000</td>\n",
              "      <td>185.200000</td>\n",
              "      <td>0.071170</td>\n",
              "      <td>0.027290</td>\n",
              "      <td>0.000000</td>\n",
              "      <td>0.000000</td>\n",
              "      <td>0.156500</td>\n",
              "      <td>0.055040</td>\n",
              "    </tr>\n",
              "    <tr>\n",
              "      <th>25%</th>\n",
              "      <td>11.700000</td>\n",
              "      <td>16.170000</td>\n",
              "      <td>75.170000</td>\n",
              "      <td>420.300000</td>\n",
              "      <td>0.086370</td>\n",
              "      <td>0.064920</td>\n",
              "      <td>0.029560</td>\n",
              "      <td>0.020310</td>\n",
              "      <td>0.161900</td>\n",
              "      <td>0.057700</td>\n",
              "      <td>0.232400</td>\n",
              "      <td>0.833900</td>\n",
              "      <td>1.606000</td>\n",
              "      <td>17.850000</td>\n",
              "      <td>0.005169</td>\n",
              "      <td>0.013080</td>\n",
              "      <td>0.015090</td>\n",
              "      <td>0.007638</td>\n",
              "      <td>0.015160</td>\n",
              "      <td>0.002248</td>\n",
              "      <td>13.010000</td>\n",
              "      <td>21.080000</td>\n",
              "      <td>84.110000</td>\n",
              "      <td>515.300000</td>\n",
              "      <td>0.116600</td>\n",
              "      <td>0.147200</td>\n",
              "      <td>0.114500</td>\n",
              "      <td>0.064930</td>\n",
              "      <td>0.250400</td>\n",
              "      <td>0.071460</td>\n",
              "    </tr>\n",
              "    <tr>\n",
              "      <th>50%</th>\n",
              "      <td>13.370000</td>\n",
              "      <td>18.840000</td>\n",
              "      <td>86.240000</td>\n",
              "      <td>551.100000</td>\n",
              "      <td>0.095870</td>\n",
              "      <td>0.092630</td>\n",
              "      <td>0.061540</td>\n",
              "      <td>0.033500</td>\n",
              "      <td>0.179200</td>\n",
              "      <td>0.061540</td>\n",
              "      <td>0.324200</td>\n",
              "      <td>1.108000</td>\n",
              "      <td>2.287000</td>\n",
              "      <td>24.530000</td>\n",
              "      <td>0.006380</td>\n",
              "      <td>0.020450</td>\n",
              "      <td>0.025890</td>\n",
              "      <td>0.010930</td>\n",
              "      <td>0.018730</td>\n",
              "      <td>0.003187</td>\n",
              "      <td>14.970000</td>\n",
              "      <td>25.410000</td>\n",
              "      <td>97.660000</td>\n",
              "      <td>686.500000</td>\n",
              "      <td>0.131300</td>\n",
              "      <td>0.211900</td>\n",
              "      <td>0.226700</td>\n",
              "      <td>0.099930</td>\n",
              "      <td>0.282200</td>\n",
              "      <td>0.080040</td>\n",
              "    </tr>\n",
              "    <tr>\n",
              "      <th>75%</th>\n",
              "      <td>15.780000</td>\n",
              "      <td>21.800000</td>\n",
              "      <td>104.100000</td>\n",
              "      <td>782.700000</td>\n",
              "      <td>0.105300</td>\n",
              "      <td>0.130400</td>\n",
              "      <td>0.130700</td>\n",
              "      <td>0.074000</td>\n",
              "      <td>0.195700</td>\n",
              "      <td>0.066120</td>\n",
              "      <td>0.478900</td>\n",
              "      <td>1.474000</td>\n",
              "      <td>3.357000</td>\n",
              "      <td>45.190000</td>\n",
              "      <td>0.008146</td>\n",
              "      <td>0.032450</td>\n",
              "      <td>0.042050</td>\n",
              "      <td>0.014710</td>\n",
              "      <td>0.023480</td>\n",
              "      <td>0.004558</td>\n",
              "      <td>18.790000</td>\n",
              "      <td>29.720000</td>\n",
              "      <td>125.400000</td>\n",
              "      <td>1084.000000</td>\n",
              "      <td>0.146000</td>\n",
              "      <td>0.339100</td>\n",
              "      <td>0.382900</td>\n",
              "      <td>0.161400</td>\n",
              "      <td>0.317900</td>\n",
              "      <td>0.092080</td>\n",
              "    </tr>\n",
              "    <tr>\n",
              "      <th>max</th>\n",
              "      <td>28.110000</td>\n",
              "      <td>39.280000</td>\n",
              "      <td>188.500000</td>\n",
              "      <td>2501.000000</td>\n",
              "      <td>0.163400</td>\n",
              "      <td>0.345400</td>\n",
              "      <td>0.426800</td>\n",
              "      <td>0.201200</td>\n",
              "      <td>0.304000</td>\n",
              "      <td>0.097440</td>\n",
              "      <td>2.873000</td>\n",
              "      <td>4.885000</td>\n",
              "      <td>21.980000</td>\n",
              "      <td>542.200000</td>\n",
              "      <td>0.031130</td>\n",
              "      <td>0.135400</td>\n",
              "      <td>0.396000</td>\n",
              "      <td>0.052790</td>\n",
              "      <td>0.078950</td>\n",
              "      <td>0.029840</td>\n",
              "      <td>36.040000</td>\n",
              "      <td>49.540000</td>\n",
              "      <td>251.200000</td>\n",
              "      <td>4254.000000</td>\n",
              "      <td>0.222600</td>\n",
              "      <td>1.058000</td>\n",
              "      <td>1.252000</td>\n",
              "      <td>0.291000</td>\n",
              "      <td>0.663800</td>\n",
              "      <td>0.207500</td>\n",
              "    </tr>\n",
              "  </tbody>\n",
              "</table>\n",
              "</div>"
            ],
            "text/plain": [
              "       radius_mean  texture_mean  ...  symmetry_worst  fractal_dimension_worst\n",
              "count   569.000000    569.000000  ...      569.000000               569.000000\n",
              "mean     14.127292     19.289649  ...        0.290076                 0.083946\n",
              "std       3.524049      4.301036  ...        0.061867                 0.018061\n",
              "min       6.981000      9.710000  ...        0.156500                 0.055040\n",
              "25%      11.700000     16.170000  ...        0.250400                 0.071460\n",
              "50%      13.370000     18.840000  ...        0.282200                 0.080040\n",
              "75%      15.780000     21.800000  ...        0.317900                 0.092080\n",
              "max      28.110000     39.280000  ...        0.663800                 0.207500\n",
              "\n",
              "[8 rows x 30 columns]"
            ]
          },
          "metadata": {
            "tags": []
          },
          "execution_count": 54
        }
      ]
    },
    {
      "cell_type": "code",
      "metadata": {
        "id": "73ChlzPCAHqx"
      },
      "source": [
        "#Separating features and target value\n",
        "X = data.iloc[:, 1:]\n",
        "y = data.iloc[:,0]"
      ],
      "execution_count": 55,
      "outputs": []
    },
    {
      "cell_type": "code",
      "metadata": {
        "id": "GASBnXhsAbzr",
        "outputId": "81fd4b38-21c2-4c3f-e502-2a23e20c9b30",
        "colab": {
          "base_uri": "https://localhost:8080/",
          "height": 221
        }
      },
      "source": [
        "#mapping target to numerical value\n",
        "# B - 0 (Benign)\n",
        "# M - 1 (Malignant)\n",
        "y = y.map({'B':0, 'M':1})\n",
        "y"
      ],
      "execution_count": 56,
      "outputs": [
        {
          "output_type": "execute_result",
          "data": {
            "text/plain": [
              "0      1\n",
              "1      1\n",
              "2      1\n",
              "3      1\n",
              "4      1\n",
              "      ..\n",
              "564    1\n",
              "565    1\n",
              "566    1\n",
              "567    1\n",
              "568    0\n",
              "Name: diagnosis, Length: 569, dtype: int64"
            ]
          },
          "metadata": {
            "tags": []
          },
          "execution_count": 56
        }
      ]
    },
    {
      "cell_type": "code",
      "metadata": {
        "id": "-iKnnGHj3faS"
      },
      "source": [
        "#splitting the data in train and test with 25% data fro test\n",
        "#First coulmn is our target value, rest is our feature.\n",
        "X_train, X_test, Y_train, Y_test = train_test_split(X, y,\n",
        "                                                    test_size=0.25, random_state=87)"
      ],
      "execution_count": 57,
      "outputs": []
    },
    {
      "cell_type": "code",
      "metadata": {
        "id": "3hNtqwW05YZl",
        "outputId": "a4ed88c3-3e74-4bdc-b807-3b60ce0b37e9",
        "colab": {
          "base_uri": "https://localhost:8080/",
          "height": 34
        }
      },
      "source": [
        "X_train.shape"
      ],
      "execution_count": 58,
      "outputs": [
        {
          "output_type": "execute_result",
          "data": {
            "text/plain": [
              "(426, 30)"
            ]
          },
          "metadata": {
            "tags": []
          },
          "execution_count": 58
        }
      ]
    },
    {
      "cell_type": "code",
      "metadata": {
        "id": "X4yW0uP96jyb",
        "outputId": "72382ee3-8d36-409b-e290-722eca09aee9",
        "colab": {
          "base_uri": "https://localhost:8080/",
          "height": 34
        }
      },
      "source": [
        "X_test.shape"
      ],
      "execution_count": 59,
      "outputs": [
        {
          "output_type": "execute_result",
          "data": {
            "text/plain": [
              "(143, 30)"
            ]
          },
          "metadata": {
            "tags": []
          },
          "execution_count": 59
        }
      ]
    },
    {
      "cell_type": "code",
      "metadata": {
        "id": "A6NQo8r-8vBh"
      },
      "source": [
        "#creating a model (as per Given in class) unit is changed to 64 and input size to 30\n",
        "np.random.seed(155)\n",
        "my_second_nn1 = Sequential() \n",
        "my_second_nn1.add(Dense(64, input_dim=30, activation='relu')) # hidden layer\n",
        "my_second_nn1.add(Dense(1, activation='sigmoid')) # output layer"
      ],
      "execution_count": 60,
      "outputs": []
    },
    {
      "cell_type": "code",
      "metadata": {
        "id": "JoeJO2jZ80tv",
        "outputId": "7320df6e-a9b4-41e1-8b35-6d4105b1fb38",
        "colab": {
          "base_uri": "https://localhost:8080/",
          "height": 1000
        }
      },
      "source": [
        "#compiling and fitting the training data\n",
        "my_second_nn1.compile(loss='binary_crossentropy', optimizer='adam', metrics=['acc'])\n",
        "my_second_nn1_fitted = my_second_nn1.fit(X_train, Y_train, epochs=100,\n",
        "                                     initial_epoch=0)"
      ],
      "execution_count": 61,
      "outputs": [
        {
          "output_type": "stream",
          "text": [
            "Epoch 1/100\n",
            "14/14 [==============================] - 0s 2ms/step - loss: 12.8067 - acc: 0.5869\n",
            "Epoch 2/100\n",
            "14/14 [==============================] - 0s 1ms/step - loss: 2.1397 - acc: 0.7746\n",
            "Epoch 3/100\n",
            "14/14 [==============================] - 0s 1ms/step - loss: 1.0592 - acc: 0.9014\n",
            "Epoch 4/100\n",
            "14/14 [==============================] - 0s 2ms/step - loss: 0.9846 - acc: 0.8756\n",
            "Epoch 5/100\n",
            "14/14 [==============================] - 0s 1ms/step - loss: 0.8028 - acc: 0.8920\n",
            "Epoch 6/100\n",
            "14/14 [==============================] - 0s 2ms/step - loss: 0.8281 - acc: 0.8803\n",
            "Epoch 7/100\n",
            "14/14 [==============================] - 0s 1ms/step - loss: 0.7294 - acc: 0.9108\n",
            "Epoch 8/100\n",
            "14/14 [==============================] - 0s 1ms/step - loss: 0.9417 - acc: 0.8732\n",
            "Epoch 9/100\n",
            "14/14 [==============================] - 0s 1ms/step - loss: 0.8327 - acc: 0.8967\n",
            "Epoch 10/100\n",
            "14/14 [==============================] - 0s 2ms/step - loss: 0.6595 - acc: 0.8850\n",
            "Epoch 11/100\n",
            "14/14 [==============================] - 0s 1ms/step - loss: 0.5724 - acc: 0.8991\n",
            "Epoch 12/100\n",
            "14/14 [==============================] - 0s 1ms/step - loss: 0.5156 - acc: 0.9131\n",
            "Epoch 13/100\n",
            "14/14 [==============================] - 0s 1ms/step - loss: 0.5590 - acc: 0.8944\n",
            "Epoch 14/100\n",
            "14/14 [==============================] - 0s 1ms/step - loss: 0.5231 - acc: 0.9225\n",
            "Epoch 15/100\n",
            "14/14 [==============================] - 0s 1ms/step - loss: 0.4900 - acc: 0.9108\n",
            "Epoch 16/100\n",
            "14/14 [==============================] - 0s 1ms/step - loss: 0.4613 - acc: 0.9108\n",
            "Epoch 17/100\n",
            "14/14 [==============================] - 0s 1ms/step - loss: 0.5237 - acc: 0.9155\n",
            "Epoch 18/100\n",
            "14/14 [==============================] - 0s 1ms/step - loss: 0.5644 - acc: 0.9038\n",
            "Epoch 19/100\n",
            "14/14 [==============================] - 0s 1ms/step - loss: 0.4817 - acc: 0.9178\n",
            "Epoch 20/100\n",
            "14/14 [==============================] - 0s 1ms/step - loss: 0.4560 - acc: 0.9108\n",
            "Epoch 21/100\n",
            "14/14 [==============================] - 0s 1ms/step - loss: 0.6076 - acc: 0.9014\n",
            "Epoch 22/100\n",
            "14/14 [==============================] - 0s 1ms/step - loss: 0.4333 - acc: 0.9202\n",
            "Epoch 23/100\n",
            "14/14 [==============================] - 0s 1ms/step - loss: 0.4241 - acc: 0.9178\n",
            "Epoch 24/100\n",
            "14/14 [==============================] - 0s 1ms/step - loss: 0.3928 - acc: 0.9178\n",
            "Epoch 25/100\n",
            "14/14 [==============================] - 0s 1ms/step - loss: 0.3651 - acc: 0.9108\n",
            "Epoch 26/100\n",
            "14/14 [==============================] - 0s 2ms/step - loss: 0.4156 - acc: 0.9131\n",
            "Epoch 27/100\n",
            "14/14 [==============================] - 0s 2ms/step - loss: 0.3910 - acc: 0.9108\n",
            "Epoch 28/100\n",
            "14/14 [==============================] - 0s 2ms/step - loss: 0.3389 - acc: 0.9202\n",
            "Epoch 29/100\n",
            "14/14 [==============================] - 0s 1ms/step - loss: 0.4277 - acc: 0.8944\n",
            "Epoch 30/100\n",
            "14/14 [==============================] - 0s 1ms/step - loss: 0.3646 - acc: 0.9061\n",
            "Epoch 31/100\n",
            "14/14 [==============================] - 0s 2ms/step - loss: 0.3420 - acc: 0.9131\n",
            "Epoch 32/100\n",
            "14/14 [==============================] - 0s 2ms/step - loss: 0.3276 - acc: 0.9202\n",
            "Epoch 33/100\n",
            "14/14 [==============================] - 0s 2ms/step - loss: 0.3388 - acc: 0.9202\n",
            "Epoch 34/100\n",
            "14/14 [==============================] - 0s 1ms/step - loss: 0.3074 - acc: 0.9108\n",
            "Epoch 35/100\n",
            "14/14 [==============================] - 0s 1ms/step - loss: 0.2725 - acc: 0.9225\n",
            "Epoch 36/100\n",
            "14/14 [==============================] - 0s 2ms/step - loss: 0.2558 - acc: 0.9249\n",
            "Epoch 37/100\n",
            "14/14 [==============================] - 0s 2ms/step - loss: 0.3116 - acc: 0.9038\n",
            "Epoch 38/100\n",
            "14/14 [==============================] - 0s 2ms/step - loss: 0.3410 - acc: 0.9061\n",
            "Epoch 39/100\n",
            "14/14 [==============================] - 0s 1ms/step - loss: 0.2089 - acc: 0.9296\n",
            "Epoch 40/100\n",
            "14/14 [==============================] - 0s 2ms/step - loss: 0.2071 - acc: 0.9296\n",
            "Epoch 41/100\n",
            "14/14 [==============================] - 0s 1ms/step - loss: 0.2174 - acc: 0.9249\n",
            "Epoch 42/100\n",
            "14/14 [==============================] - 0s 1ms/step - loss: 0.2420 - acc: 0.9296\n",
            "Epoch 43/100\n",
            "14/14 [==============================] - 0s 1ms/step - loss: 0.2455 - acc: 0.9131\n",
            "Epoch 44/100\n",
            "14/14 [==============================] - 0s 1ms/step - loss: 0.2577 - acc: 0.9249\n",
            "Epoch 45/100\n",
            "14/14 [==============================] - 0s 2ms/step - loss: 0.1750 - acc: 0.9343\n",
            "Epoch 46/100\n",
            "14/14 [==============================] - 0s 1ms/step - loss: 0.2114 - acc: 0.9296\n",
            "Epoch 47/100\n",
            "14/14 [==============================] - 0s 1ms/step - loss: 0.1796 - acc: 0.9366\n",
            "Epoch 48/100\n",
            "14/14 [==============================] - 0s 1ms/step - loss: 0.1574 - acc: 0.9437\n",
            "Epoch 49/100\n",
            "14/14 [==============================] - 0s 1ms/step - loss: 0.1628 - acc: 0.9366\n",
            "Epoch 50/100\n",
            "14/14 [==============================] - 0s 2ms/step - loss: 0.3346 - acc: 0.9108\n",
            "Epoch 51/100\n",
            "14/14 [==============================] - 0s 1ms/step - loss: 0.2680 - acc: 0.9202\n",
            "Epoch 52/100\n",
            "14/14 [==============================] - 0s 1ms/step - loss: 0.1986 - acc: 0.9319\n",
            "Epoch 53/100\n",
            "14/14 [==============================] - 0s 1ms/step - loss: 0.1828 - acc: 0.9366\n",
            "Epoch 54/100\n",
            "14/14 [==============================] - 0s 1ms/step - loss: 0.2118 - acc: 0.9131\n",
            "Epoch 55/100\n",
            "14/14 [==============================] - 0s 1ms/step - loss: 0.1634 - acc: 0.9413\n",
            "Epoch 56/100\n",
            "14/14 [==============================] - 0s 2ms/step - loss: 0.1668 - acc: 0.9343\n",
            "Epoch 57/100\n",
            "14/14 [==============================] - 0s 2ms/step - loss: 0.1655 - acc: 0.9437\n",
            "Epoch 58/100\n",
            "14/14 [==============================] - 0s 1ms/step - loss: 0.2492 - acc: 0.9202\n",
            "Epoch 59/100\n",
            "14/14 [==============================] - 0s 1ms/step - loss: 0.2303 - acc: 0.9061\n",
            "Epoch 60/100\n",
            "14/14 [==============================] - 0s 1ms/step - loss: 0.2029 - acc: 0.9343\n",
            "Epoch 61/100\n",
            "14/14 [==============================] - 0s 1ms/step - loss: 0.1330 - acc: 0.9484\n",
            "Epoch 62/100\n",
            "14/14 [==============================] - 0s 1ms/step - loss: 0.1445 - acc: 0.9460\n",
            "Epoch 63/100\n",
            "14/14 [==============================] - 0s 2ms/step - loss: 0.2183 - acc: 0.9343\n",
            "Epoch 64/100\n",
            "14/14 [==============================] - 0s 1ms/step - loss: 0.1712 - acc: 0.9319\n",
            "Epoch 65/100\n",
            "14/14 [==============================] - 0s 1ms/step - loss: 0.1339 - acc: 0.9507\n",
            "Epoch 66/100\n",
            "14/14 [==============================] - 0s 1ms/step - loss: 0.1181 - acc: 0.9484\n",
            "Epoch 67/100\n",
            "14/14 [==============================] - 0s 1ms/step - loss: 0.1719 - acc: 0.9319\n",
            "Epoch 68/100\n",
            "14/14 [==============================] - 0s 1ms/step - loss: 0.1250 - acc: 0.9460\n",
            "Epoch 69/100\n",
            "14/14 [==============================] - 0s 1ms/step - loss: 0.3029 - acc: 0.8991\n",
            "Epoch 70/100\n",
            "14/14 [==============================] - 0s 1ms/step - loss: 0.1459 - acc: 0.9390\n",
            "Epoch 71/100\n",
            "14/14 [==============================] - 0s 1ms/step - loss: 0.1639 - acc: 0.9413\n",
            "Epoch 72/100\n",
            "14/14 [==============================] - 0s 1ms/step - loss: 0.3166 - acc: 0.8850\n",
            "Epoch 73/100\n",
            "14/14 [==============================] - 0s 2ms/step - loss: 0.2915 - acc: 0.8991\n",
            "Epoch 74/100\n",
            "14/14 [==============================] - 0s 2ms/step - loss: 0.2991 - acc: 0.9178\n",
            "Epoch 75/100\n",
            "14/14 [==============================] - 0s 2ms/step - loss: 0.1956 - acc: 0.9413\n",
            "Epoch 76/100\n",
            "14/14 [==============================] - 0s 2ms/step - loss: 0.1558 - acc: 0.9390\n",
            "Epoch 77/100\n",
            "14/14 [==============================] - 0s 1ms/step - loss: 0.1210 - acc: 0.9554\n",
            "Epoch 78/100\n",
            "14/14 [==============================] - 0s 2ms/step - loss: 0.1616 - acc: 0.9296\n",
            "Epoch 79/100\n",
            "14/14 [==============================] - 0s 2ms/step - loss: 0.1251 - acc: 0.9507\n",
            "Epoch 80/100\n",
            "14/14 [==============================] - 0s 2ms/step - loss: 0.2036 - acc: 0.9366\n",
            "Epoch 81/100\n",
            "14/14 [==============================] - 0s 2ms/step - loss: 0.1537 - acc: 0.9460\n",
            "Epoch 82/100\n",
            "14/14 [==============================] - 0s 2ms/step - loss: 0.1815 - acc: 0.9390\n",
            "Epoch 83/100\n",
            "14/14 [==============================] - 0s 2ms/step - loss: 0.1904 - acc: 0.9366\n",
            "Epoch 84/100\n",
            "14/14 [==============================] - 0s 2ms/step - loss: 0.1967 - acc: 0.9366\n",
            "Epoch 85/100\n",
            "14/14 [==============================] - 0s 2ms/step - loss: 0.1293 - acc: 0.9531\n",
            "Epoch 86/100\n",
            "14/14 [==============================] - 0s 2ms/step - loss: 0.1185 - acc: 0.9531\n",
            "Epoch 87/100\n",
            "14/14 [==============================] - 0s 2ms/step - loss: 0.1694 - acc: 0.9272\n",
            "Epoch 88/100\n",
            "14/14 [==============================] - 0s 2ms/step - loss: 0.1828 - acc: 0.9296\n",
            "Epoch 89/100\n",
            "14/14 [==============================] - 0s 2ms/step - loss: 0.1343 - acc: 0.9507\n",
            "Epoch 90/100\n",
            "14/14 [==============================] - 0s 2ms/step - loss: 0.1282 - acc: 0.9484\n",
            "Epoch 91/100\n",
            "14/14 [==============================] - 0s 1ms/step - loss: 0.1067 - acc: 0.9484\n",
            "Epoch 92/100\n",
            "14/14 [==============================] - 0s 2ms/step - loss: 0.1175 - acc: 0.9507\n",
            "Epoch 93/100\n",
            "14/14 [==============================] - 0s 2ms/step - loss: 0.1610 - acc: 0.9272\n",
            "Epoch 94/100\n",
            "14/14 [==============================] - 0s 1ms/step - loss: 0.2436 - acc: 0.9085\n",
            "Epoch 95/100\n",
            "14/14 [==============================] - 0s 1ms/step - loss: 0.1988 - acc: 0.9296\n",
            "Epoch 96/100\n",
            "14/14 [==============================] - 0s 1ms/step - loss: 0.2025 - acc: 0.9319\n",
            "Epoch 97/100\n",
            "14/14 [==============================] - 0s 1ms/step - loss: 0.1070 - acc: 0.9437\n",
            "Epoch 98/100\n",
            "14/14 [==============================] - 0s 1ms/step - loss: 0.1463 - acc: 0.9460\n",
            "Epoch 99/100\n",
            "14/14 [==============================] - 0s 2ms/step - loss: 0.1695 - acc: 0.9390\n",
            "Epoch 100/100\n",
            "14/14 [==============================] - 0s 2ms/step - loss: 0.2859 - acc: 0.9038\n"
          ],
          "name": "stdout"
        }
      ]
    },
    {
      "cell_type": "code",
      "metadata": {
        "id": "YwqHnDQ0Ci_E",
        "outputId": "2e15ecb0-8f99-444c-cdf7-fb7cd135be19",
        "colab": {
          "base_uri": "https://localhost:8080/",
          "height": 238
        }
      },
      "source": [
        "#model summary \n",
        "print(my_second_nn1.summary())"
      ],
      "execution_count": 62,
      "outputs": [
        {
          "output_type": "stream",
          "text": [
            "Model: \"sequential_4\"\n",
            "_________________________________________________________________\n",
            "Layer (type)                 Output Shape              Param #   \n",
            "=================================================================\n",
            "dense_12 (Dense)             (None, 64)                1984      \n",
            "_________________________________________________________________\n",
            "dense_13 (Dense)             (None, 1)                 65        \n",
            "=================================================================\n",
            "Total params: 2,049\n",
            "Trainable params: 2,049\n",
            "Non-trainable params: 0\n",
            "_________________________________________________________________\n",
            "None\n"
          ],
          "name": "stdout"
        }
      ]
    },
    {
      "cell_type": "code",
      "metadata": {
        "id": "_WDbsyraCpST",
        "outputId": "6ff5692d-fb5f-4bbf-d8cd-91727fb14880",
        "colab": {
          "base_uri": "https://localhost:8080/",
          "height": 34
        }
      },
      "source": [
        "#evaluation on test data\n",
        "val_can1 = my_second_nn1.evaluate(X_test, Y_test)"
      ],
      "execution_count": 63,
      "outputs": [
        {
          "output_type": "stream",
          "text": [
            "5/5 [==============================] - 0s 2ms/step - loss: 0.7358 - acc: 0.7762\n"
          ],
          "name": "stdout"
        }
      ]
    },
    {
      "cell_type": "code",
      "metadata": {
        "id": "HLVM3L97DJbv"
      },
      "source": [
        "#creating second model with additional dense layers \n",
        "my_second_nn2 = Sequential() \n",
        "my_second_nn2.add(Dense(64, input_dim=30, activation='relu')) # hidden layer\n",
        "my_second_nn2.add(Dense(32,activation= 'relu' )) #additional dense layer of 32 units are added\n",
        "my_second_nn2.add(Dense(8, activation= 'relu')) #additional dense layer of 8 units are added\n",
        "my_second_nn2.add(Dense(1, activation='sigmoid')) # output layer"
      ],
      "execution_count": 64,
      "outputs": []
    },
    {
      "cell_type": "code",
      "metadata": {
        "id": "Mv923pZrDj11",
        "outputId": "8c84bd93-436b-42c4-91bd-e1b7d07e0c88",
        "colab": {
          "base_uri": "https://localhost:8080/",
          "height": 1000
        }
      },
      "source": [
        "#Compiling the second model\n",
        "my_second_nn2.compile(loss='binary_crossentropy', optimizer='adam', metrics=['acc'])\n",
        "#fitting the data to second model\n",
        "my_second_nn2_fitted = my_second_nn2.fit(X_train, Y_train, epochs=100,\n",
        "                                     initial_epoch=0)"
      ],
      "execution_count": 65,
      "outputs": [
        {
          "output_type": "stream",
          "text": [
            "Epoch 1/100\n",
            "14/14 [==============================] - 0s 2ms/step - loss: 6.4867 - acc: 0.4531\n",
            "Epoch 2/100\n",
            "14/14 [==============================] - 0s 1ms/step - loss: 1.2241 - acc: 0.6221\n",
            "Epoch 3/100\n",
            "14/14 [==============================] - 0s 1ms/step - loss: 0.6272 - acc: 0.8028\n",
            "Epoch 4/100\n",
            "14/14 [==============================] - 0s 1ms/step - loss: 0.3742 - acc: 0.8779\n",
            "Epoch 5/100\n",
            "14/14 [==============================] - 0s 1ms/step - loss: 0.3924 - acc: 0.8474\n",
            "Epoch 6/100\n",
            "14/14 [==============================] - 0s 2ms/step - loss: 0.3406 - acc: 0.8803\n",
            "Epoch 7/100\n",
            "14/14 [==============================] - 0s 1ms/step - loss: 0.2505 - acc: 0.9038\n",
            "Epoch 8/100\n",
            "14/14 [==============================] - 0s 1ms/step - loss: 0.2333 - acc: 0.9155\n",
            "Epoch 9/100\n",
            "14/14 [==============================] - 0s 1ms/step - loss: 0.2198 - acc: 0.9131\n",
            "Epoch 10/100\n",
            "14/14 [==============================] - 0s 2ms/step - loss: 0.2238 - acc: 0.9249\n",
            "Epoch 11/100\n",
            "14/14 [==============================] - 0s 1ms/step - loss: 0.2926 - acc: 0.8803\n",
            "Epoch 12/100\n",
            "14/14 [==============================] - 0s 1ms/step - loss: 0.3046 - acc: 0.9131\n",
            "Epoch 13/100\n",
            "14/14 [==============================] - 0s 1ms/step - loss: 0.2000 - acc: 0.9249\n",
            "Epoch 14/100\n",
            "14/14 [==============================] - 0s 1ms/step - loss: 0.1946 - acc: 0.9249\n",
            "Epoch 15/100\n",
            "14/14 [==============================] - 0s 1ms/step - loss: 0.1990 - acc: 0.9296\n",
            "Epoch 16/100\n",
            "14/14 [==============================] - 0s 1ms/step - loss: 0.1726 - acc: 0.9272\n",
            "Epoch 17/100\n",
            "14/14 [==============================] - 0s 2ms/step - loss: 0.1818 - acc: 0.9343\n",
            "Epoch 18/100\n",
            "14/14 [==============================] - 0s 2ms/step - loss: 0.2050 - acc: 0.9249\n",
            "Epoch 19/100\n",
            "14/14 [==============================] - 0s 2ms/step - loss: 0.1991 - acc: 0.9249\n",
            "Epoch 20/100\n",
            "14/14 [==============================] - 0s 2ms/step - loss: 0.1761 - acc: 0.9366\n",
            "Epoch 21/100\n",
            "14/14 [==============================] - 0s 2ms/step - loss: 0.2256 - acc: 0.9131\n",
            "Epoch 22/100\n",
            "14/14 [==============================] - 0s 1ms/step - loss: 0.2500 - acc: 0.9061\n",
            "Epoch 23/100\n",
            "14/14 [==============================] - 0s 2ms/step - loss: 0.1891 - acc: 0.9343\n",
            "Epoch 24/100\n",
            "14/14 [==============================] - 0s 2ms/step - loss: 0.1848 - acc: 0.9319\n",
            "Epoch 25/100\n",
            "14/14 [==============================] - 0s 1ms/step - loss: 0.1924 - acc: 0.9202\n",
            "Epoch 26/100\n",
            "14/14 [==============================] - 0s 2ms/step - loss: 0.2259 - acc: 0.9202\n",
            "Epoch 27/100\n",
            "14/14 [==============================] - 0s 1ms/step - loss: 0.1729 - acc: 0.9343\n",
            "Epoch 28/100\n",
            "14/14 [==============================] - 0s 1ms/step - loss: 0.1886 - acc: 0.9319\n",
            "Epoch 29/100\n",
            "14/14 [==============================] - 0s 2ms/step - loss: 0.2204 - acc: 0.9131\n",
            "Epoch 30/100\n",
            "14/14 [==============================] - 0s 2ms/step - loss: 0.1666 - acc: 0.9343\n",
            "Epoch 31/100\n",
            "14/14 [==============================] - 0s 1ms/step - loss: 0.1765 - acc: 0.9366\n",
            "Epoch 32/100\n",
            "14/14 [==============================] - 0s 1ms/step - loss: 0.1953 - acc: 0.9225\n",
            "Epoch 33/100\n",
            "14/14 [==============================] - 0s 2ms/step - loss: 0.2211 - acc: 0.9202\n",
            "Epoch 34/100\n",
            "14/14 [==============================] - 0s 2ms/step - loss: 0.1720 - acc: 0.9366\n",
            "Epoch 35/100\n",
            "14/14 [==============================] - 0s 2ms/step - loss: 0.2013 - acc: 0.9319\n",
            "Epoch 36/100\n",
            "14/14 [==============================] - 0s 2ms/step - loss: 0.1640 - acc: 0.9366\n",
            "Epoch 37/100\n",
            "14/14 [==============================] - 0s 2ms/step - loss: 0.1792 - acc: 0.9296\n",
            "Epoch 38/100\n",
            "14/14 [==============================] - 0s 2ms/step - loss: 0.1784 - acc: 0.9225\n",
            "Epoch 39/100\n",
            "14/14 [==============================] - 0s 1ms/step - loss: 0.1610 - acc: 0.9390\n",
            "Epoch 40/100\n",
            "14/14 [==============================] - 0s 1ms/step - loss: 0.1790 - acc: 0.9366\n",
            "Epoch 41/100\n",
            "14/14 [==============================] - 0s 1ms/step - loss: 0.1689 - acc: 0.9343\n",
            "Epoch 42/100\n",
            "14/14 [==============================] - 0s 2ms/step - loss: 0.1671 - acc: 0.9225\n",
            "Epoch 43/100\n",
            "14/14 [==============================] - 0s 1ms/step - loss: 0.1644 - acc: 0.9343\n",
            "Epoch 44/100\n",
            "14/14 [==============================] - 0s 2ms/step - loss: 0.1823 - acc: 0.9296\n",
            "Epoch 45/100\n",
            "14/14 [==============================] - 0s 2ms/step - loss: 0.1501 - acc: 0.9366\n",
            "Epoch 46/100\n",
            "14/14 [==============================] - 0s 2ms/step - loss: 0.2326 - acc: 0.9155\n",
            "Epoch 47/100\n",
            "14/14 [==============================] - 0s 1ms/step - loss: 0.2194 - acc: 0.9108\n",
            "Epoch 48/100\n",
            "14/14 [==============================] - 0s 2ms/step - loss: 0.2256 - acc: 0.9108\n",
            "Epoch 49/100\n",
            "14/14 [==============================] - 0s 2ms/step - loss: 0.2834 - acc: 0.8920\n",
            "Epoch 50/100\n",
            "14/14 [==============================] - 0s 1ms/step - loss: 0.1987 - acc: 0.9296\n",
            "Epoch 51/100\n",
            "14/14 [==============================] - 0s 2ms/step - loss: 0.1477 - acc: 0.9366\n",
            "Epoch 52/100\n",
            "14/14 [==============================] - 0s 1ms/step - loss: 0.1496 - acc: 0.9343\n",
            "Epoch 53/100\n",
            "14/14 [==============================] - 0s 1ms/step - loss: 0.2193 - acc: 0.9155\n",
            "Epoch 54/100\n",
            "14/14 [==============================] - 0s 1ms/step - loss: 0.3031 - acc: 0.8967\n",
            "Epoch 55/100\n",
            "14/14 [==============================] - 0s 1ms/step - loss: 0.1511 - acc: 0.9554\n",
            "Epoch 56/100\n",
            "14/14 [==============================] - 0s 1ms/step - loss: 0.1658 - acc: 0.9366\n",
            "Epoch 57/100\n",
            "14/14 [==============================] - 0s 2ms/step - loss: 0.1847 - acc: 0.9343\n",
            "Epoch 58/100\n",
            "14/14 [==============================] - 0s 2ms/step - loss: 0.1849 - acc: 0.9178\n",
            "Epoch 59/100\n",
            "14/14 [==============================] - 0s 2ms/step - loss: 0.1604 - acc: 0.9413\n",
            "Epoch 60/100\n",
            "14/14 [==============================] - 0s 2ms/step - loss: 0.1606 - acc: 0.9390\n",
            "Epoch 61/100\n",
            "14/14 [==============================] - 0s 2ms/step - loss: 0.1770 - acc: 0.9202\n",
            "Epoch 62/100\n",
            "14/14 [==============================] - 0s 2ms/step - loss: 0.3067 - acc: 0.9014\n",
            "Epoch 63/100\n",
            "14/14 [==============================] - 0s 1ms/step - loss: 0.2484 - acc: 0.9014\n",
            "Epoch 64/100\n",
            "14/14 [==============================] - 0s 2ms/step - loss: 0.1563 - acc: 0.9296\n",
            "Epoch 65/100\n",
            "14/14 [==============================] - 0s 1ms/step - loss: 0.1641 - acc: 0.9249\n",
            "Epoch 66/100\n",
            "14/14 [==============================] - 0s 1ms/step - loss: 0.1610 - acc: 0.9319\n",
            "Epoch 67/100\n",
            "14/14 [==============================] - 0s 2ms/step - loss: 0.1676 - acc: 0.9343\n",
            "Epoch 68/100\n",
            "14/14 [==============================] - 0s 1ms/step - loss: 0.2722 - acc: 0.9085\n",
            "Epoch 69/100\n",
            "14/14 [==============================] - 0s 1ms/step - loss: 0.2785 - acc: 0.9085\n",
            "Epoch 70/100\n",
            "14/14 [==============================] - 0s 2ms/step - loss: 0.2407 - acc: 0.9178\n",
            "Epoch 71/100\n",
            "14/14 [==============================] - 0s 1ms/step - loss: 0.1820 - acc: 0.9390\n",
            "Epoch 72/100\n",
            "14/14 [==============================] - 0s 1ms/step - loss: 0.1707 - acc: 0.9413\n",
            "Epoch 73/100\n",
            "14/14 [==============================] - 0s 2ms/step - loss: 0.1539 - acc: 0.9413\n",
            "Epoch 74/100\n",
            "14/14 [==============================] - 0s 1ms/step - loss: 0.1508 - acc: 0.9296\n",
            "Epoch 75/100\n",
            "14/14 [==============================] - 0s 1ms/step - loss: 0.1546 - acc: 0.9366\n",
            "Epoch 76/100\n",
            "14/14 [==============================] - 0s 2ms/step - loss: 0.1523 - acc: 0.9296\n",
            "Epoch 77/100\n",
            "14/14 [==============================] - 0s 2ms/step - loss: 0.1880 - acc: 0.9390\n",
            "Epoch 78/100\n",
            "14/14 [==============================] - 0s 1ms/step - loss: 0.1443 - acc: 0.9390\n",
            "Epoch 79/100\n",
            "14/14 [==============================] - 0s 1ms/step - loss: 0.1525 - acc: 0.9343\n",
            "Epoch 80/100\n",
            "14/14 [==============================] - 0s 1ms/step - loss: 0.1704 - acc: 0.9225\n",
            "Epoch 81/100\n",
            "14/14 [==============================] - 0s 1ms/step - loss: 0.1685 - acc: 0.9507\n",
            "Epoch 82/100\n",
            "14/14 [==============================] - 0s 2ms/step - loss: 0.1561 - acc: 0.9366\n",
            "Epoch 83/100\n",
            "14/14 [==============================] - 0s 2ms/step - loss: 0.1608 - acc: 0.9296\n",
            "Epoch 84/100\n",
            "14/14 [==============================] - 0s 2ms/step - loss: 0.1606 - acc: 0.9366\n",
            "Epoch 85/100\n",
            "14/14 [==============================] - 0s 2ms/step - loss: 0.1882 - acc: 0.9202\n",
            "Epoch 86/100\n",
            "14/14 [==============================] - 0s 1ms/step - loss: 0.1351 - acc: 0.9366\n",
            "Epoch 87/100\n",
            "14/14 [==============================] - 0s 1ms/step - loss: 0.1369 - acc: 0.9366\n",
            "Epoch 88/100\n",
            "14/14 [==============================] - 0s 2ms/step - loss: 0.1725 - acc: 0.9390\n",
            "Epoch 89/100\n",
            "14/14 [==============================] - 0s 2ms/step - loss: 0.1513 - acc: 0.9319\n",
            "Epoch 90/100\n",
            "14/14 [==============================] - 0s 2ms/step - loss: 0.1572 - acc: 0.9343\n",
            "Epoch 91/100\n",
            "14/14 [==============================] - 0s 2ms/step - loss: 0.1410 - acc: 0.9366\n",
            "Epoch 92/100\n",
            "14/14 [==============================] - 0s 1ms/step - loss: 0.1689 - acc: 0.9343\n",
            "Epoch 93/100\n",
            "14/14 [==============================] - 0s 2ms/step - loss: 0.1555 - acc: 0.9249\n",
            "Epoch 94/100\n",
            "14/14 [==============================] - 0s 2ms/step - loss: 0.1450 - acc: 0.9319\n",
            "Epoch 95/100\n",
            "14/14 [==============================] - 0s 2ms/step - loss: 0.1437 - acc: 0.9202\n",
            "Epoch 96/100\n",
            "14/14 [==============================] - 0s 2ms/step - loss: 0.1754 - acc: 0.9390\n",
            "Epoch 97/100\n",
            "14/14 [==============================] - 0s 2ms/step - loss: 0.1571 - acc: 0.9319\n",
            "Epoch 98/100\n",
            "14/14 [==============================] - 0s 2ms/step - loss: 0.1995 - acc: 0.9202\n",
            "Epoch 99/100\n",
            "14/14 [==============================] - 0s 2ms/step - loss: 0.1609 - acc: 0.9272\n",
            "Epoch 100/100\n",
            "14/14 [==============================] - 0s 2ms/step - loss: 0.1738 - acc: 0.9296\n"
          ],
          "name": "stdout"
        }
      ]
    },
    {
      "cell_type": "code",
      "metadata": {
        "id": "YpNUMTFIQsF4",
        "outputId": "41853048-6833-4e52-e2c8-4a37031a459c",
        "colab": {
          "base_uri": "https://localhost:8080/",
          "height": 34
        }
      },
      "source": [
        "val_can2 = my_second_nn2.evaluate(X_test, Y_test)"
      ],
      "execution_count": 66,
      "outputs": [
        {
          "output_type": "stream",
          "text": [
            "5/5 [==============================] - 0s 2ms/step - loss: 0.2320 - acc: 0.9091\n"
          ],
          "name": "stdout"
        }
      ]
    },
    {
      "cell_type": "code",
      "metadata": {
        "id": "7zCP30TNC1NA",
        "outputId": "fa25f067-51a4-4ec3-d86b-c720b9ab0d1f",
        "colab": {
          "base_uri": "https://localhost:8080/",
          "height": 573
        }
      },
      "source": [
        "# summarize history for accuracy\n",
        "plt.plot(my_second_nn1_fitted.history['acc'])\n",
        "plt.plot(my_second_nn2_fitted.history['acc'])\n",
        "plt.title('Model accuracy on training data')\n",
        "plt.ylabel('Accuracy')\n",
        "plt.xlabel('Epoch')\n",
        "plt.legend(['Model1', 'Model2'], loc='upper left')\n",
        "plt.show()\n",
        "# summarize history for loss\n",
        "plt.plot(my_second_nn1_fitted.history['loss'])\n",
        "plt.plot(my_second_nn2_fitted.history['loss'])\n",
        "plt.title('Model loss on training data')\n",
        "plt.ylabel('Loss')\n",
        "plt.xlabel('Epoch')\n",
        "plt.legend(['Model1', 'Model2'], loc='upper left')\n",
        "plt.show()"
      ],
      "execution_count": 67,
      "outputs": [
        {
          "output_type": "display_data",
          "data": {
            "image/png": "[encoded data removed]",
            "text/plain": [
              "<Figure size 432x288 with 1 Axes>"
            ]
          },
          "metadata": {
            "tags": [],
            "needs_background": "light"
          }
        },
        {
          "output_type": "display_data",
          "data": {
            "image/png": "[encoded data removed]",
            "text/plain": [
              "<Figure size 432x288 with 1 Axes>"
            ]
          },
          "metadata": {
            "tags": [],
            "needs_background": "light"
          }
        }
      ]
    },
    {
      "cell_type": "code",
      "metadata": {
        "id": "3ITJBCdqRgha",
        "outputId": "bc9023c7-0813-4c80-eb7a-f3d62efaba95",
        "colab": {
          "base_uri": "https://localhost:8080/",
          "height": 34
        }
      },
      "source": [
        "print('Accuracy on test data on model 2 is {} and loss is {}'.format(val_can2[1], val_can2[0]))"
      ],
      "execution_count": 68,
      "outputs": [
        {
          "output_type": "stream",
          "text": [
            "Accuracy on test data on model 2 is 0.9090909361839294 and loss is 0.23199863731861115\n"
          ],
          "name": "stdout"
        }
      ]
    },
    {
      "cell_type": "code",
      "metadata": {
        "id": "KTXlb5CoD5tX"
      },
      "source": [
        "#Scaling the data\n",
        "sc = StandardScaler()\n",
        "sc.fit(X)\n",
        "X_scaled = sc.transform(X)\n",
        "X_scaled = pd.DataFrame(X_scaled, columns = X.columns)"
      ],
      "execution_count": 69,
      "outputs": []
    },
    {
      "cell_type": "code",
      "metadata": {
        "id": "UGmfcqWfFJB1",
        "outputId": "62d0e8bc-8e2d-428c-875c-4f47d28e25dc",
        "colab": {
          "base_uri": "https://localhost:8080/",
          "height": 241
        }
      },
      "source": [
        "#After scaling\n",
        "X_scaled.head()"
      ],
      "execution_count": 70,
      "outputs": [
        {
          "output_type": "execute_result",
          "data": {
            "text/html": [
              "<div>\n",
              "<style scoped>\n",
              "    .dataframe tbody tr th:only-of-type {\n",
              "        vertical-align: middle;\n",
              "    }\n",
              "\n",
              "    .dataframe tbody tr th {\n",
              "        vertical-align: top;\n",
              "    }\n",
              "\n",
              "    .dataframe thead th {\n",
              "        text-align: right;\n",
              "    }\n",
              "</style>\n",
              "<table border=\"1\" class=\"dataframe\">\n",
              "  <thead>\n",
              "    <tr style=\"text-align: right;\">\n",
              "      <th></th>\n",
              "      <th>radius_mean</th>\n",
              "      <th>texture_mean</th>\n",
              "      <th>perimeter_mean</th>\n",
              "      <th>area_mean</th>\n",
              "      <th>smoothness_mean</th>\n",
              "      <th>compactness_mean</th>\n",
              "      <th>concavity_mean</th>\n",
              "      <th>concave points_mean</th>\n",
              "      <th>symmetry_mean</th>\n",
              "      <th>fractal_dimension_mean</th>\n",
              "      <th>radius_se</th>\n",
              "      <th>texture_se</th>\n",
              "      <th>perimeter_se</th>\n",
              "      <th>area_se</th>\n",
              "      <th>smoothness_se</th>\n",
              "      <th>compactness_se</th>\n",
              "      <th>concavity_se</th>\n",
              "      <th>concave points_se</th>\n",
              "      <th>symmetry_se</th>\n",
              "      <th>fractal_dimension_se</th>\n",
              "      <th>radius_worst</th>\n",
              "      <th>texture_worst</th>\n",
              "      <th>perimeter_worst</th>\n",
              "      <th>area_worst</th>\n",
              "      <th>smoothness_worst</th>\n",
              "      <th>compactness_worst</th>\n",
              "      <th>concavity_worst</th>\n",
              "      <th>concave points_worst</th>\n",
              "      <th>symmetry_worst</th>\n",
              "      <th>fractal_dimension_worst</th>\n",
              "    </tr>\n",
              "  </thead>\n",
              "  <tbody>\n",
              "    <tr>\n",
              "      <th>0</th>\n",
              "      <td>1.097064</td>\n",
              "      <td>-2.073335</td>\n",
              "      <td>1.269934</td>\n",
              "      <td>0.984375</td>\n",
              "      <td>1.568466</td>\n",
              "      <td>3.283515</td>\n",
              "      <td>2.652874</td>\n",
              "      <td>2.532475</td>\n",
              "      <td>2.217515</td>\n",
              "      <td>2.255747</td>\n",
              "      <td>2.489734</td>\n",
              "      <td>-0.565265</td>\n",
              "      <td>2.833031</td>\n",
              "      <td>2.487578</td>\n",
              "      <td>-0.214002</td>\n",
              "      <td>1.316862</td>\n",
              "      <td>0.724026</td>\n",
              "      <td>0.660820</td>\n",
              "      <td>1.148757</td>\n",
              "      <td>0.907083</td>\n",
              "      <td>1.886690</td>\n",
              "      <td>-1.359293</td>\n",
              "      <td>2.303601</td>\n",
              "      <td>2.001237</td>\n",
              "      <td>1.307686</td>\n",
              "      <td>2.616665</td>\n",
              "      <td>2.109526</td>\n",
              "      <td>2.296076</td>\n",
              "      <td>2.750622</td>\n",
              "      <td>1.937015</td>\n",
              "    </tr>\n",
              "    <tr>\n",
              "      <th>1</th>\n",
              "      <td>1.829821</td>\n",
              "      <td>-0.353632</td>\n",
              "      <td>1.685955</td>\n",
              "      <td>1.908708</td>\n",
              "      <td>-0.826962</td>\n",
              "      <td>-0.487072</td>\n",
              "      <td>-0.023846</td>\n",
              "      <td>0.548144</td>\n",
              "      <td>0.001392</td>\n",
              "      <td>-0.868652</td>\n",
              "      <td>0.499255</td>\n",
              "      <td>-0.876244</td>\n",
              "      <td>0.263327</td>\n",
              "      <td>0.742402</td>\n",
              "      <td>-0.605351</td>\n",
              "      <td>-0.692926</td>\n",
              "      <td>-0.440780</td>\n",
              "      <td>0.260162</td>\n",
              "      <td>-0.805450</td>\n",
              "      <td>-0.099444</td>\n",
              "      <td>1.805927</td>\n",
              "      <td>-0.369203</td>\n",
              "      <td>1.535126</td>\n",
              "      <td>1.890489</td>\n",
              "      <td>-0.375612</td>\n",
              "      <td>-0.430444</td>\n",
              "      <td>-0.146749</td>\n",
              "      <td>1.087084</td>\n",
              "      <td>-0.243890</td>\n",
              "      <td>0.281190</td>\n",
              "    </tr>\n",
              "    <tr>\n",
              "      <th>2</th>\n",
              "      <td>1.579888</td>\n",
              "      <td>0.456187</td>\n",
              "      <td>1.566503</td>\n",
              "      <td>1.558884</td>\n",
              "      <td>0.942210</td>\n",
              "      <td>1.052926</td>\n",
              "      <td>1.363478</td>\n",
              "      <td>2.037231</td>\n",
              "      <td>0.939685</td>\n",
              "      <td>-0.398008</td>\n",
              "      <td>1.228676</td>\n",
              "      <td>-0.780083</td>\n",
              "      <td>0.850928</td>\n",
              "      <td>1.181336</td>\n",
              "      <td>-0.297005</td>\n",
              "      <td>0.814974</td>\n",
              "      <td>0.213076</td>\n",
              "      <td>1.424827</td>\n",
              "      <td>0.237036</td>\n",
              "      <td>0.293559</td>\n",
              "      <td>1.511870</td>\n",
              "      <td>-0.023974</td>\n",
              "      <td>1.347475</td>\n",
              "      <td>1.456285</td>\n",
              "      <td>0.527407</td>\n",
              "      <td>1.082932</td>\n",
              "      <td>0.854974</td>\n",
              "      <td>1.955000</td>\n",
              "      <td>1.152255</td>\n",
              "      <td>0.201391</td>\n",
              "    </tr>\n",
              "    <tr>\n",
              "      <th>3</th>\n",
              "      <td>-0.768909</td>\n",
              "      <td>0.253732</td>\n",
              "      <td>-0.592687</td>\n",
              "      <td>-0.764464</td>\n",
              "      <td>3.283553</td>\n",
              "      <td>3.402909</td>\n",
              "      <td>1.915897</td>\n",
              "      <td>1.451707</td>\n",
              "      <td>2.867383</td>\n",
              "      <td>4.910919</td>\n",
              "      <td>0.326373</td>\n",
              "      <td>-0.110409</td>\n",
              "      <td>0.286593</td>\n",
              "      <td>-0.288378</td>\n",
              "      <td>0.689702</td>\n",
              "      <td>2.744280</td>\n",
              "      <td>0.819518</td>\n",
              "      <td>1.115007</td>\n",
              "      <td>4.732680</td>\n",
              "      <td>2.047511</td>\n",
              "      <td>-0.281464</td>\n",
              "      <td>0.133984</td>\n",
              "      <td>-0.249939</td>\n",
              "      <td>-0.550021</td>\n",
              "      <td>3.394275</td>\n",
              "      <td>3.893397</td>\n",
              "      <td>1.989588</td>\n",
              "      <td>2.175786</td>\n",
              "      <td>6.046041</td>\n",
              "      <td>4.935010</td>\n",
              "    </tr>\n",
              "    <tr>\n",
              "      <th>4</th>\n",
              "      <td>1.750297</td>\n",
              "      <td>-1.151816</td>\n",
              "      <td>1.776573</td>\n",
              "      <td>1.826229</td>\n",
              "      <td>0.280372</td>\n",
              "      <td>0.539340</td>\n",
              "      <td>1.371011</td>\n",
              "      <td>1.428493</td>\n",
              "      <td>-0.009560</td>\n",
              "      <td>-0.562450</td>\n",
              "      <td>1.270543</td>\n",
              "      <td>-0.790244</td>\n",
              "      <td>1.273189</td>\n",
              "      <td>1.190357</td>\n",
              "      <td>1.483067</td>\n",
              "      <td>-0.048520</td>\n",
              "      <td>0.828471</td>\n",
              "      <td>1.144205</td>\n",
              "      <td>-0.361092</td>\n",
              "      <td>0.499328</td>\n",
              "      <td>1.298575</td>\n",
              "      <td>-1.466770</td>\n",
              "      <td>1.338539</td>\n",
              "      <td>1.220724</td>\n",
              "      <td>0.220556</td>\n",
              "      <td>-0.313395</td>\n",
              "      <td>0.613179</td>\n",
              "      <td>0.729259</td>\n",
              "      <td>-0.868353</td>\n",
              "      <td>-0.397100</td>\n",
              "    </tr>\n",
              "  </tbody>\n",
              "</table>\n",
              "</div>"
            ],
            "text/plain": [
              "   radius_mean  texture_mean  ...  symmetry_worst  fractal_dimension_worst\n",
              "0     1.097064     -2.073335  ...        2.750622                 1.937015\n",
              "1     1.829821     -0.353632  ...       -0.243890                 0.281190\n",
              "2     1.579888      0.456187  ...        1.152255                 0.201391\n",
              "3    -0.768909      0.253732  ...        6.046041                 4.935010\n",
              "4     1.750297     -1.151816  ...       -0.868353                -0.397100\n",
              "\n",
              "[5 rows x 30 columns]"
            ]
          },
          "metadata": {
            "tags": []
          },
          "execution_count": 70
        }
      ]
    },
    {
      "cell_type": "code",
      "metadata": {
        "id": "L78IZxhMFLKt"
      },
      "source": [
        "#splitting the data in train and test with 25% data fro test\n",
        "#First coulmn is our target value, rest is our feature.\n",
        "X_scaled_train, X__scaled_test, Y_train, Y_test = train_test_split(X_scaled, y,\n",
        "                                                    test_size=0.25, random_state=87)"
      ],
      "execution_count": 71,
      "outputs": []
    },
    {
      "cell_type": "code",
      "metadata": {
        "id": "lnBJ4SfnFkl9",
        "outputId": "abecb1b9-4c12-4914-c3ef-2c76b3d23134",
        "colab": {
          "base_uri": "https://localhost:8080/",
          "height": 1000
        }
      },
      "source": [
        "#compiling and fitting the training scaled data\n",
        "my_second_nn1.compile(loss='binary_crossentropy', optimizer='adam', metrics=['acc'])\n",
        "my_second_nn1_scaled_fitted = my_second_nn1.fit(X_scaled_train, Y_train, epochs=100,\n",
        "                                     initial_epoch=0)"
      ],
      "execution_count": 72,
      "outputs": [
        {
          "output_type": "stream",
          "text": [
            "Epoch 1/100\n",
            "14/14 [==============================] - 0s 2ms/step - loss: 0.6317 - acc: 0.8357\n",
            "Epoch 2/100\n",
            "14/14 [==============================] - 0s 2ms/step - loss: 0.4779 - acc: 0.8592\n",
            "Epoch 3/100\n",
            "14/14 [==============================] - 0s 1ms/step - loss: 0.3653 - acc: 0.8897\n",
            "Epoch 4/100\n",
            "14/14 [==============================] - 0s 2ms/step - loss: 0.2820 - acc: 0.9061\n",
            "Epoch 5/100\n",
            "14/14 [==============================] - 0s 2ms/step - loss: 0.2249 - acc: 0.9202\n",
            "Epoch 6/100\n",
            "14/14 [==============================] - 0s 2ms/step - loss: 0.1771 - acc: 0.9343\n",
            "Epoch 7/100\n",
            "14/14 [==============================] - 0s 2ms/step - loss: 0.1474 - acc: 0.9437\n",
            "Epoch 8/100\n",
            "14/14 [==============================] - 0s 2ms/step - loss: 0.1257 - acc: 0.9531\n",
            "Epoch 9/100\n",
            "14/14 [==============================] - 0s 2ms/step - loss: 0.1118 - acc: 0.9577\n",
            "Epoch 10/100\n",
            "14/14 [==============================] - 0s 2ms/step - loss: 0.1027 - acc: 0.9624\n",
            "Epoch 11/100\n",
            "14/14 [==============================] - 0s 1ms/step - loss: 0.0953 - acc: 0.9624\n",
            "Epoch 12/100\n",
            "14/14 [==============================] - 0s 2ms/step - loss: 0.0892 - acc: 0.9671\n",
            "Epoch 13/100\n",
            "14/14 [==============================] - 0s 2ms/step - loss: 0.0841 - acc: 0.9742\n",
            "Epoch 14/100\n",
            "14/14 [==============================] - 0s 1ms/step - loss: 0.0795 - acc: 0.9789\n",
            "Epoch 15/100\n",
            "14/14 [==============================] - 0s 1ms/step - loss: 0.0762 - acc: 0.9812\n",
            "Epoch 16/100\n",
            "14/14 [==============================] - 0s 1ms/step - loss: 0.0718 - acc: 0.9859\n",
            "Epoch 17/100\n",
            "14/14 [==============================] - 0s 2ms/step - loss: 0.0687 - acc: 0.9859\n",
            "Epoch 18/100\n",
            "14/14 [==============================] - 0s 2ms/step - loss: 0.0653 - acc: 0.9836\n",
            "Epoch 19/100\n",
            "14/14 [==============================] - 0s 2ms/step - loss: 0.0631 - acc: 0.9836\n",
            "Epoch 20/100\n",
            "14/14 [==============================] - 0s 2ms/step - loss: 0.0609 - acc: 0.9883\n",
            "Epoch 21/100\n",
            "14/14 [==============================] - 0s 2ms/step - loss: 0.0586 - acc: 0.9906\n",
            "Epoch 22/100\n",
            "14/14 [==============================] - 0s 1ms/step - loss: 0.0569 - acc: 0.9883\n",
            "Epoch 23/100\n",
            "14/14 [==============================] - 0s 2ms/step - loss: 0.0546 - acc: 0.9883\n",
            "Epoch 24/100\n",
            "14/14 [==============================] - 0s 1ms/step - loss: 0.0526 - acc: 0.9906\n",
            "Epoch 25/100\n",
            "14/14 [==============================] - 0s 2ms/step - loss: 0.0511 - acc: 0.9906\n",
            "Epoch 26/100\n",
            "14/14 [==============================] - 0s 2ms/step - loss: 0.0495 - acc: 0.9906\n",
            "Epoch 27/100\n",
            "14/14 [==============================] - 0s 3ms/step - loss: 0.0480 - acc: 0.9906\n",
            "Epoch 28/100\n",
            "14/14 [==============================] - 0s 2ms/step - loss: 0.0468 - acc: 0.9906\n",
            "Epoch 29/100\n",
            "14/14 [==============================] - 0s 2ms/step - loss: 0.0453 - acc: 0.9906\n",
            "Epoch 30/100\n",
            "14/14 [==============================] - 0s 2ms/step - loss: 0.0440 - acc: 0.9906\n",
            "Epoch 31/100\n",
            "14/14 [==============================] - 0s 2ms/step - loss: 0.0431 - acc: 0.9906\n",
            "Epoch 32/100\n",
            "14/14 [==============================] - 0s 2ms/step - loss: 0.0416 - acc: 0.9906\n",
            "Epoch 33/100\n",
            "14/14 [==============================] - 0s 2ms/step - loss: 0.0407 - acc: 0.9906\n",
            "Epoch 34/100\n",
            "14/14 [==============================] - 0s 2ms/step - loss: 0.0393 - acc: 0.9906\n",
            "Epoch 35/100\n",
            "14/14 [==============================] - 0s 2ms/step - loss: 0.0386 - acc: 0.9906\n",
            "Epoch 36/100\n",
            "14/14 [==============================] - 0s 2ms/step - loss: 0.0377 - acc: 0.9930\n",
            "Epoch 37/100\n",
            "14/14 [==============================] - 0s 2ms/step - loss: 0.0368 - acc: 0.9930\n",
            "Epoch 38/100\n",
            "14/14 [==============================] - 0s 2ms/step - loss: 0.0362 - acc: 0.9906\n",
            "Epoch 39/100\n",
            "14/14 [==============================] - 0s 2ms/step - loss: 0.0353 - acc: 0.9906\n",
            "Epoch 40/100\n",
            "14/14 [==============================] - 0s 2ms/step - loss: 0.0349 - acc: 0.9906\n",
            "Epoch 41/100\n",
            "14/14 [==============================] - 0s 1ms/step - loss: 0.0341 - acc: 0.9906\n",
            "Epoch 42/100\n",
            "14/14 [==============================] - 0s 1ms/step - loss: 0.0332 - acc: 0.9930\n",
            "Epoch 43/100\n",
            "14/14 [==============================] - 0s 1ms/step - loss: 0.0326 - acc: 0.9930\n",
            "Epoch 44/100\n",
            "14/14 [==============================] - 0s 2ms/step - loss: 0.0321 - acc: 0.9930\n",
            "Epoch 45/100\n",
            "14/14 [==============================] - 0s 2ms/step - loss: 0.0314 - acc: 0.9930\n",
            "Epoch 46/100\n",
            "14/14 [==============================] - 0s 2ms/step - loss: 0.0309 - acc: 0.9930\n",
            "Epoch 47/100\n",
            "14/14 [==============================] - 0s 2ms/step - loss: 0.0302 - acc: 0.9953\n",
            "Epoch 48/100\n",
            "14/14 [==============================] - 0s 1ms/step - loss: 0.0297 - acc: 0.9953\n",
            "Epoch 49/100\n",
            "14/14 [==============================] - 0s 2ms/step - loss: 0.0291 - acc: 0.9906\n",
            "Epoch 50/100\n",
            "14/14 [==============================] - 0s 2ms/step - loss: 0.0286 - acc: 0.9930\n",
            "Epoch 51/100\n",
            "14/14 [==============================] - 0s 2ms/step - loss: 0.0280 - acc: 0.9930\n",
            "Epoch 52/100\n",
            "14/14 [==============================] - 0s 2ms/step - loss: 0.0276 - acc: 0.9930\n",
            "Epoch 53/100\n",
            "14/14 [==============================] - 0s 2ms/step - loss: 0.0270 - acc: 0.9953\n",
            "Epoch 54/100\n",
            "14/14 [==============================] - 0s 2ms/step - loss: 0.0266 - acc: 0.9953\n",
            "Epoch 55/100\n",
            "14/14 [==============================] - 0s 2ms/step - loss: 0.0262 - acc: 0.9953\n",
            "Epoch 56/100\n",
            "14/14 [==============================] - 0s 2ms/step - loss: 0.0256 - acc: 0.9953\n",
            "Epoch 57/100\n",
            "14/14 [==============================] - 0s 2ms/step - loss: 0.0251 - acc: 0.9953\n",
            "Epoch 58/100\n",
            "14/14 [==============================] - 0s 2ms/step - loss: 0.0248 - acc: 0.9953\n",
            "Epoch 59/100\n",
            "14/14 [==============================] - 0s 2ms/step - loss: 0.0243 - acc: 0.9953\n",
            "Epoch 60/100\n",
            "14/14 [==============================] - 0s 2ms/step - loss: 0.0239 - acc: 0.9953\n",
            "Epoch 61/100\n",
            "14/14 [==============================] - 0s 1ms/step - loss: 0.0236 - acc: 0.9953\n",
            "Epoch 62/100\n",
            "14/14 [==============================] - 0s 2ms/step - loss: 0.0232 - acc: 0.9953\n",
            "Epoch 63/100\n",
            "14/14 [==============================] - 0s 2ms/step - loss: 0.0230 - acc: 0.9930\n",
            "Epoch 64/100\n",
            "14/14 [==============================] - 0s 2ms/step - loss: 0.0225 - acc: 0.9953\n",
            "Epoch 65/100\n",
            "14/14 [==============================] - 0s 2ms/step - loss: 0.0222 - acc: 0.9953\n",
            "Epoch 66/100\n",
            "14/14 [==============================] - 0s 2ms/step - loss: 0.0217 - acc: 0.9953\n",
            "Epoch 67/100\n",
            "14/14 [==============================] - 0s 1ms/step - loss: 0.0215 - acc: 0.9953\n",
            "Epoch 68/100\n",
            "14/14 [==============================] - 0s 2ms/step - loss: 0.0214 - acc: 0.9953\n",
            "Epoch 69/100\n",
            "14/14 [==============================] - 0s 2ms/step - loss: 0.0207 - acc: 0.9953\n",
            "Epoch 70/100\n",
            "14/14 [==============================] - 0s 2ms/step - loss: 0.0204 - acc: 0.9953\n",
            "Epoch 71/100\n",
            "14/14 [==============================] - 0s 1ms/step - loss: 0.0201 - acc: 0.9953\n",
            "Epoch 72/100\n",
            "14/14 [==============================] - 0s 2ms/step - loss: 0.0196 - acc: 0.9953\n",
            "Epoch 73/100\n",
            "14/14 [==============================] - 0s 2ms/step - loss: 0.0194 - acc: 0.9953\n",
            "Epoch 74/100\n",
            "14/14 [==============================] - 0s 2ms/step - loss: 0.0190 - acc: 0.9953\n",
            "Epoch 75/100\n",
            "14/14 [==============================] - 0s 2ms/step - loss: 0.0188 - acc: 0.9953\n",
            "Epoch 76/100\n",
            "14/14 [==============================] - 0s 2ms/step - loss: 0.0184 - acc: 0.9953\n",
            "Epoch 77/100\n",
            "14/14 [==============================] - 0s 2ms/step - loss: 0.0185 - acc: 0.9953\n",
            "Epoch 78/100\n",
            "14/14 [==============================] - 0s 2ms/step - loss: 0.0179 - acc: 0.9953\n",
            "Epoch 79/100\n",
            "14/14 [==============================] - 0s 2ms/step - loss: 0.0174 - acc: 0.9953\n",
            "Epoch 80/100\n",
            "14/14 [==============================] - 0s 1ms/step - loss: 0.0172 - acc: 0.9953\n",
            "Epoch 81/100\n",
            "14/14 [==============================] - 0s 2ms/step - loss: 0.0170 - acc: 0.9953\n",
            "Epoch 82/100\n",
            "14/14 [==============================] - 0s 2ms/step - loss: 0.0169 - acc: 0.9953\n",
            "Epoch 83/100\n",
            "14/14 [==============================] - 0s 2ms/step - loss: 0.0164 - acc: 0.9953\n",
            "Epoch 84/100\n",
            "14/14 [==============================] - 0s 2ms/step - loss: 0.0162 - acc: 0.9953\n",
            "Epoch 85/100\n",
            "14/14 [==============================] - 0s 1ms/step - loss: 0.0160 - acc: 0.9953\n",
            "Epoch 86/100\n",
            "14/14 [==============================] - 0s 1ms/step - loss: 0.0158 - acc: 0.9953\n",
            "Epoch 87/100\n",
            "14/14 [==============================] - 0s 2ms/step - loss: 0.0156 - acc: 0.9953\n",
            "Epoch 88/100\n",
            "14/14 [==============================] - 0s 1ms/step - loss: 0.0153 - acc: 0.9953\n",
            "Epoch 89/100\n",
            "14/14 [==============================] - 0s 2ms/step - loss: 0.0152 - acc: 0.9977\n",
            "Epoch 90/100\n",
            "14/14 [==============================] - 0s 2ms/step - loss: 0.0150 - acc: 0.9977\n",
            "Epoch 91/100\n",
            "14/14 [==============================] - 0s 2ms/step - loss: 0.0146 - acc: 0.9977\n",
            "Epoch 92/100\n",
            "14/14 [==============================] - 0s 2ms/step - loss: 0.0146 - acc: 0.9953\n",
            "Epoch 93/100\n",
            "14/14 [==============================] - 0s 2ms/step - loss: 0.0142 - acc: 1.0000\n",
            "Epoch 94/100\n",
            "14/14 [==============================] - 0s 2ms/step - loss: 0.0141 - acc: 0.9977\n",
            "Epoch 95/100\n",
            "14/14 [==============================] - 0s 2ms/step - loss: 0.0139 - acc: 0.9977\n",
            "Epoch 96/100\n",
            "14/14 [==============================] - 0s 2ms/step - loss: 0.0136 - acc: 1.0000\n",
            "Epoch 97/100\n",
            "14/14 [==============================] - 0s 2ms/step - loss: 0.0138 - acc: 0.9977\n",
            "Epoch 98/100\n",
            "14/14 [==============================] - 0s 2ms/step - loss: 0.0133 - acc: 1.0000\n",
            "Epoch 99/100\n",
            "14/14 [==============================] - 0s 2ms/step - loss: 0.0133 - acc: 1.0000\n",
            "Epoch 100/100\n",
            "14/14 [==============================] - 0s 2ms/step - loss: 0.0129 - acc: 1.0000\n"
          ],
          "name": "stdout"
        }
      ]
    },
    {
      "cell_type": "code",
      "metadata": {
        "id": "eyn6IxTIGLLL",
        "outputId": "eaf0146c-36d4-4472-c9db-f3094492e41e",
        "colab": {
          "base_uri": "https://localhost:8080/",
          "height": 573
        }
      },
      "source": [
        "# summarize history for accuracy\n",
        "plt.plot(my_second_nn1_fitted.history['acc'])\n",
        "plt.plot(my_second_nn1_scaled_fitted.history['acc'])\n",
        "plt.title('Model accuracy on training data')\n",
        "plt.ylabel('Accuracy')\n",
        "plt.xlabel('Epoch')\n",
        "plt.legend(['Raw data', 'Scaled data'], loc='upper left')\n",
        "plt.show()\n",
        "# summarize history for loss\n",
        "plt.plot(my_second_nn1_fitted.history['loss'])\n",
        "plt.plot(my_second_nn1_scaled_fitted.history['loss'])\n",
        "plt.title('Model loss on training data')\n",
        "plt.ylabel('Loss')\n",
        "plt.xlabel('Epoch')\n",
        "plt.legend(['Raw data', 'Scaled data'], loc='upper left')\n",
        "plt.show()"
      ],
      "execution_count": 73,
      "outputs": [
        {
          "output_type": "display_data",
          "data": {
            "image/png": "[encoded data removed]",
            "text/plain": [
              "<Figure size 432x288 with 1 Axes>"
            ]
          },
          "metadata": {
            "tags": [],
            "needs_background": "light"
          }
        },
        {
          "output_type": "display_data",
          "data": {
            "image/png": "[encoded data removed]",
            "text/plain": [
              "<Figure size 432x288 with 1 Axes>"
            ]
          },
          "metadata": {
            "tags": [],
            "needs_background": "light"
          }
        }
      ]
    },
    {
      "cell_type": "markdown",
      "metadata": {
        "id": "CJSLcBJzP8Ta"
      },
      "source": [
        "On comparing, we get that Scaled data has better performance on model. Scaled data is showing significant improvement on accuracy and loss is decreased too."
      ]
    },
    {
      "cell_type": "code",
      "metadata": {
        "id": "-6aHjTzNP-gK",
        "outputId": "31935232-8884-4574-c0da-6f01e48feb6e",
        "colab": {
          "base_uri": "https://localhost:8080/",
          "height": 34
        }
      },
      "source": [
        "val_can_scale = my_second_nn1.evaluate(X__scaled_test, Y_test)"
      ],
      "execution_count": 74,
      "outputs": [
        {
          "output_type": "stream",
          "text": [
            "5/5 [==============================] - 0s 2ms/step - loss: 0.2011 - acc: 0.9720\n"
          ],
          "name": "stdout"
        }
      ]
    },
    {
      "cell_type": "code",
      "metadata": {
        "id": "DhJItGbvRujQ",
        "outputId": "620d2822-b2bf-4311-b7e4-ba7d1ab41e36",
        "colab": {
          "base_uri": "https://localhost:8080/",
          "height": 68
        }
      },
      "source": [
        "print('Accuracy on test data on model 1 is {} and loss is {}'.format(val_can1[1], val_can1[0]))\n",
        "print('After scaling')\n",
        "print('Accuracy on test data on model 2 is {} and loss is {}'.format(val_can_scale[1], val_can_scale[0]))"
      ],
      "execution_count": 75,
      "outputs": [
        {
          "output_type": "stream",
          "text": [
            "Accuracy on test data on model 1 is 0.7762237787246704 and loss is 0.7358078956604004\n",
            "After scaling\n",
            "Accuracy on test data on model 2 is 0.9720279574394226 and loss is 0.2010510116815567\n"
          ],
          "name": "stdout"
        }
      ]
    }
  ]
}